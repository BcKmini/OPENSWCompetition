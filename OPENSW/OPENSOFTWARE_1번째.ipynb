{
  "cells": [
    {
      "cell_type": "code",
      "execution_count": null,
      "metadata": {
        "colab": {
          "base_uri": "https://localhost:8080/"
        },
        "id": "GHCS88cYDmyr",
        "outputId": "cd27b7b9-990f-4366-d668-52813962473b"
      },
      "outputs": [],
      "source": [
        "from google.colab import drive\n",
        "drive.mount('/content/drive')"
      ]
    },
    {
      "cell_type": "code",
      "execution_count": null,
      "metadata": {
        "colab": {
          "base_uri": "https://localhost:8080/"
        },
        "id": "IoP3BTHlDoW7",
        "outputId": "a509a933-586b-4040-b36d-a107e8aea64d"
      },
      "outputs": [],
      "source": [
        "!pip install roboflow\n",
        "\n",
        "from roboflow import Roboflow\n",
        "import os\n",
        "\n",
        "# Roboflow API 키 설정\n",
        "rf = Roboflow(api_key=\"qthwFyiSbLdwOFVygVhW\")\n",
        "\n",
        "# 프로젝트와 데이터셋 버전 지정\n",
        "project = rf.workspace(\"tata-meta-19tsj\").project(\"people-counting-naew1\")\n",
        "version = project.version(2)\n",
        "# https://universe.roboflow.com/keio-dba-team/crowdhuman-nur7g/dataset/3# 21990 이미지로 첫번째 훈련\n",
        "# 데이터셋 다운로드\n",
        "dataset = version.download(\"yolov8\")\n",
        "\n",
        "# 다운로드된 데이터셋의 경로 출력\n",
        "print(\"Dataset downloaded to:\", dataset)\n",
        "\n",
        "# 데이터셋 내용 확인\n",
        "print(\"\\nContents of the dataset directory:\")\n",
        "!ls {dataset}"
      ]
    },
    {
      "cell_type": "code",
      "execution_count": null,
      "metadata": {
        "colab": {
          "base_uri": "https://localhost:8080/"
        },
        "id": "5JnVe8RpFVtT",
        "outputId": "011c3e52-9c10-4057-9dea-8b1d991d7f24"
      },
      "outputs": [],
      "source": [
        "!pip install PyYAML #파이썬에서 YAML 파일을 사용하기 위해서 PyYAML 라이브러리 설치"
      ]
    },
    {
      "cell_type": "code",
      "execution_count": null,
      "metadata": {
        "colab": {
          "base_uri": "https://localhost:8080/"
        },
        "id": "tXlsZnlmMD0g",
        "outputId": "e38b3122-8eb1-4886-e1ea-96bf9ac30610"
      },
      "outputs": [],
      "source": [
        "import yaml\n",
        "\n",
        "data = {\n",
        "    'train': '/content/Human/train/images',\n",
        "    'val': '/content/Human/valid/images',\n",
        "    'test': '/content/Human/test/images',\n",
        "    'nc': 2,  # 클래스 수\n",
        "    'names': ['head', 'person']  # 클래스 이름\n",
        "}\n",
        "\n",
        "os.makedirs('/content/Human', exist_ok=True)\n",
        "yaml_path = '/content/Human/Human_data.yaml'\n",
        "\n",
        "with open(yaml_path, 'w') as f:\n",
        "    yaml.dump(data, f)\n",
        "\n",
        "print(f\"YAML 파일이 생성되었습니다: {yaml_path}\")\n",
        "print(\"내용:\")\n",
        "print(yaml.dump(data, default_flow_style=False))"
      ]
    },
    {
      "cell_type": "code",
      "execution_count": null,
      "metadata": {
        "colab": {
          "base_uri": "https://localhost:8080/"
        },
        "id": "Z4aCuQVGIxe_",
        "outputId": "e17a5122-93a5-4672-a445-880ecd9baf57"
      },
      "outputs": [],
      "source": [
        "!pip install ultralytics"
      ]
    },
    {
      "cell_type": "code",
      "execution_count": null,
      "metadata": {
        "colab": {
          "base_uri": "https://localhost:8080/"
        },
        "id": "O3c5EigrI4z9",
        "outputId": "2dce820e-fce5-4061-a4a8-ef2d133facd7"
      },
      "outputs": [],
      "source": [
        "from ultralytics import YOLO\n",
        "\n",
        "model = YOLO('yolov8n.pt')"
      ]
    },
    {
      "cell_type": "code",
      "execution_count": null,
      "metadata": {
        "colab": {
          "base_uri": "https://localhost:8080/",
          "height": 1000
        },
        "id": "6FJqZVUmJeB8",
        "outputId": "6c21b000-3d79-46b6-fe98-95f9e403e2b6"
      },
      "outputs": [],
      "source": [
        "# Colab 노트북 초기화 코드\n",
        "import torch\n",
        "print(\"CUDA available:\", torch.cuda.is_available())\n",
        "\n",
        "# 데이터 경로 및 학습 설정\n",
        "data_path = '/content/Human/Human_data.yaml'\n",
        "epochs = 100\n",
        "patience = 30\n",
        "batch_size = 32\n",
        "img_size = 416\n",
        "\n",
        "# 모델 학습\n",
        "model.train(data=data_path, epochs=epochs, patience=patience, batch=batch_size, imgsz=img_size)\n",
        "\n",
        "# 학습 종료 후 GPU 메모리 해제\n",
        "torch.cuda.empty_cache()"
      ]
    },
    {
      "cell_type": "code",
      "execution_count": null,
      "metadata": {
        "colab": {
          "base_uri": "https://localhost:8080/",
          "height": 1000
        },
        "id": "kmP4oMPBpALU",
        "outputId": "b9100f78-24da-42f5-9970-b94877c99aa5"
      },
      "outputs": [],
      "source": [
        "# Colab 노트북 초기화 코드\n",
        "import torch\n",
        "print(\"CUDA available:\", torch.cuda.is_available())\n",
        "\n",
        "\n",
        "# 기존 체크포인트 로드 (경로를 실제 체크포인트 파일로 변경)\n",
        "checkpoint_path = '/content/runs/detect/train5/weights/best.pt'  # 또는 'last.pt'\n",
        "\n",
        "# 모델 로드\n",
        "model = YOLO(checkpoint_path)\n",
        "\n",
        "# 데이터 경로 및 추가 학습 설정\n",
        "data_path = '/content/Human/Human_data.yaml'\n",
        "additional_epochs = 20  # 추가로 학습할 에포크 수\n",
        "patience = 30\n",
        "batch_size = 32\n",
        "img_size = 416\n",
        "\n",
        "# 모델 추가 학습\n",
        "model.train(data=data_path, epochs=additional_epochs, patience=patience, batch=batch_size, imgsz=img_size)\n",
        "\n",
        "# 학습 종료 후 GPU 메모리 해제\n",
        "torch.cuda.empty_cache()\n",
        "\n",
        "# 결과 파일 경로 확인\n",
        "import os\n",
        "\n",
        "# 기본적으로 runs/train 디렉토리에 저장됨\n",
        "train_dir = 'runs/train1'\n",
        "exp_folders = sorted(os.listdir(train_dir), key=lambda x: os.path.getctime(os.path.join(train_dir, x)))\n",
        "latest_exp = exp_folders[-1]  # 가장 최근 실행 폴더\n",
        "\n",
        "print(f\"학습 결과는 다음 경로에 저장되었습니다: {train_dir}/{latest_exp}\")\n"
      ]
    },
    {
      "cell_type": "code",
      "execution_count": null,
      "metadata": {},
      "outputs": [],
      "source": [
        "# 모델 평가\n",
        "from ultralytics import YOLO\n",
        "\n",
        "# 학습된 모델 로드\n",
        "model = YOLO('/content/drive/MyDrive/runs/detect/train/weights/best.pt')  # 학습된 모델 파일의 경로로 변경해주세요\n",
        "\n",
        "# 데이터셋 경로 (검증 데이터셋이 포함된 YAML 파일)\n",
        "data_path = '/content/drive/MyDrive/Human/Human_data.yaml'\n",
        "\n",
        "# 모델 평가 실행\n",
        "results = model.val(data=data_path)\n",
        "\n",
        "# 평가 결과 출력\n",
        "print(\"\\nValidation Results:\")\n",
        "print(f\"mAP50 (Box): {results.box.map50:.4f}\")\n",
        "print(f\"mAP50-95 (Box): {results.box.map:.4f}\")\n",
        "print(f\"Precision: {results.box.mp:.4f}\")\n",
        "print(f\"Recall: {results.box.mr:.4f}\")\n",
        "\n",
        "# 추가적인 메트릭 (필요시 주석 해제)\n",
        "print(f\"Speed: {results.speed['inference']:.2f} ms pre-process, {results.speed['inference']:.2f} ms inference, {results.speed['postprocess']:.2f} ms post-process per image\")"
      ]
    },
    {
      "cell_type": "code",
      "execution_count": null,
      "metadata": {
        "id": "fPF6v5vWQKhz"
      },
      "outputs": [],
      "source": [
        "reuslt = model.predict(source = '/content/Human/test/images', save = True)"
      ]
    },
    {
      "cell_type": "code",
      "execution_count": null,
      "metadata": {},
      "outputs": [],
      "source": [
        "import cv2\n",
        "import numpy as np\n",
        "from ultralytics import YOLO\n",
        "import time\n",
        "import csv\n",
        "from datetime import datetime\n",
        "\n",
        "import math\n",
        "\n",
        "class CrowdGuardAlert:\n",
        "    def __init__(self, model_path, area_size):\n",
        "        self.model = YOLO(model_path)\n",
        "        self.area_size = area_size\n",
        "\n",
        "    def calculate_average_distance(self, density):\n",
        "        # 밀도를 기반으로 평균 거리 계산 (단순화된 모델)\n",
        "        return math.sqrt(1 / density)\n",
        "\n",
        "    def generate_alert(self, density):\n",
        "        avg_distance = self.calculate_average_distance(density)\n",
        "        \n",
        "        if avg_distance < 0.3:\n",
        "            return \"극도의 위험! 즉시 대피하세요! 압사 위험이 매우 높습니다.\", 4\n",
        "        elif avg_distance < 0.5:\n",
        "            return \"심각한 위험! 군중 밀집도가 매우 높습니다. 즉시 주의하세요!\", 3\n",
        "        elif avg_distance < 0.7:\n",
        "            return \"주의! 군중이 밀집되고 있습니다. 이동에 주의하세요.\", 2\n",
        "        elif avg_distance < 1.0:\n",
        "            return \"경계! 군중이 모이고 있습니다. 상황을 주시하세요.\", 1\n",
        "        else:\n",
        "            return \"안전: 현재 군중 밀도가 안전한 수준입니다.\", 0\n",
        "\n",
        "    def send_emergency_message(self, message):\n",
        "        # 이동통신사 API 연동 예시 (실제 구현 필요)\n",
        "        print(f\"긴급 재난 문자: {message}\")\n",
        "        # API 호출 예시:\n",
        "        # response = requests.post('https://emergency-api.example.com/send',\n",
        "        #                          json={'message': message, 'level': 'urgent'})\n",
        "        # if response.status_code == 200:\n",
        "        #     print(\"긴급 메시지 전송 성공\")\n",
        "        # else:\n",
        "        #     print(\"긴급 메시지 전송 실패\")\n",
        "\n",
        "    def log_data(self, people_count, density, alert):\n",
        "        with open(self.log_file, 'a', newline='') as file:\n",
        "            writer = csv.writer(file)\n",
        "            writer.writerow([datetime.now(), people_count, density, alert])\n",
        "\n",
        "    def monitor_crowd(self, camera_index=0):\n",
        "        cap = cv2.VideoCapture(camera_index)\n",
        "        \n",
        "        while True:\n",
        "            ret, frame = cap.read()\n",
        "            if not ret:\n",
        "                break\n",
        "\n",
        "            people_count, density = self.analyze_frame(frame)\n",
        "            alert = self.generate_alert(density)\n",
        "\n",
        "            if alert:\n",
        "                self.send_emergency_message(alert)\n",
        "\n",
        "            # 데이터 로깅\n",
        "            self.log_data(people_count, density, alert)\n",
        "\n",
        "            # 화면에 정보 표시\n",
        "            cv2.putText(frame, f\"People: {people_count}\", (10, 30), cv2.FONT_HERSHEY_SIMPLEX, 1, (0, 255, 0), 2)\n",
        "            cv2.putText(frame, f\"Density: {density:.2f}/m^2\", (10, 70), cv2.FONT_HERSHEY_SIMPLEX, 1, (0, 255, 0), 2)\n",
        "            \n",
        "            cv2.imshow(\"CrowdGuard Alert\", frame)\n",
        "\n",
        "            if cv2.waitKey(1) & 0xFF == ord('q'):\n",
        "                break\n",
        "\n",
        "        cap.release()\n",
        "        cv2.destroyAllWindows()\n",
        "\n",
        "# 사용 예시\n",
        "if __name__ == \"__main__\":\n",
        "    model_path = \"path/to/your/trained/model.pt\"\n",
        "    area_size = 18.24  # 이태원 사고 현장 면적 (m^2)\n",
        "    camera_index = 0  # 노트북 웹캠 사용\n",
        "\n",
        "    crowd_guard = CrowdGuardAlert(model_path, area_size)\n",
        "    crowd_guard.monitor_crowd(camera_index)"
      ]
    },
    {
      "cell_type": "markdown",
      "metadata": {},
      "source": []
    }
  ],
  "metadata": {
    "accelerator": "GPU",
    "colab": {
      "gpuType": "T4",
      "provenance": []
    },
    "kernelspec": {
      "display_name": "Python 3",
      "name": "python3"
    },
    "language_info": {
      "name": "python"
    }
  },
  "nbformat": 4,
  "nbformat_minor": 0
}
