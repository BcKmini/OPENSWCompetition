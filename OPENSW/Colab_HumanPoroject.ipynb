{
  "cells": [
    {
      "cell_type": "code",
      "execution_count": null,
      "metadata": {
        "id": "bcyeXngxDkA9"
      },
      "outputs": [],
      "source": []
    },
    {
      "cell_type": "code",
      "execution_count": 1,
      "metadata": {
        "colab": {
          "base_uri": "https://localhost:8080/"
        },
        "id": "GHCS88cYDmyr",
        "outputId": "ea210cbb-78c7-498d-bd71-da69c2739138"
      },
      "outputs": [
        {
          "output_type": "stream",
          "name": "stdout",
          "text": [
            "Mounted at /content/drive\n"
          ]
        }
      ],
      "source": [
        "from google.colab import drive\n",
        "drive.mount('/content/drive')"
      ]
    },
    {
      "cell_type": "code",
      "execution_count": 2,
      "metadata": {
        "colab": {
          "base_uri": "https://localhost:8080/"
        },
        "id": "IoP3BTHlDoW7",
        "outputId": "07033d7e-8bbd-4610-f89c-1be53c6300f4"
      },
      "outputs": [
        {
          "output_type": "stream",
          "name": "stdout",
          "text": [
            "Collecting roboflow\n",
            "  Downloading roboflow-1.1.36-py3-none-any.whl.metadata (9.4 kB)\n",
            "Requirement already satisfied: certifi in /usr/local/lib/python3.10/dist-packages (from roboflow) (2024.7.4)\n",
            "Collecting chardet==4.0.0 (from roboflow)\n",
            "  Downloading chardet-4.0.0-py2.py3-none-any.whl.metadata (3.5 kB)\n",
            "Requirement already satisfied: idna==3.7 in /usr/local/lib/python3.10/dist-packages (from roboflow) (3.7)\n",
            "Requirement already satisfied: cycler in /usr/local/lib/python3.10/dist-packages (from roboflow) (0.12.1)\n",
            "Requirement already satisfied: kiwisolver>=1.3.1 in /usr/local/lib/python3.10/dist-packages (from roboflow) (1.4.5)\n",
            "Requirement already satisfied: matplotlib in /usr/local/lib/python3.10/dist-packages (from roboflow) (3.7.1)\n",
            "Requirement already satisfied: numpy>=1.18.5 in /usr/local/lib/python3.10/dist-packages (from roboflow) (1.25.2)\n",
            "Requirement already satisfied: opencv-python-headless==4.10.0.84 in /usr/local/lib/python3.10/dist-packages (from roboflow) (4.10.0.84)\n",
            "Requirement already satisfied: Pillow>=7.1.2 in /usr/local/lib/python3.10/dist-packages (from roboflow) (9.4.0)\n",
            "Requirement already satisfied: python-dateutil in /usr/local/lib/python3.10/dist-packages (from roboflow) (2.8.2)\n",
            "Collecting python-dotenv (from roboflow)\n",
            "  Downloading python_dotenv-1.0.1-py3-none-any.whl.metadata (23 kB)\n",
            "Requirement already satisfied: requests in /usr/local/lib/python3.10/dist-packages (from roboflow) (2.31.0)\n",
            "Requirement already satisfied: six in /usr/local/lib/python3.10/dist-packages (from roboflow) (1.16.0)\n",
            "Requirement already satisfied: urllib3>=1.26.6 in /usr/local/lib/python3.10/dist-packages (from roboflow) (2.0.7)\n",
            "Requirement already satisfied: tqdm>=4.41.0 in /usr/local/lib/python3.10/dist-packages (from roboflow) (4.66.4)\n",
            "Requirement already satisfied: PyYAML>=5.3.1 in /usr/local/lib/python3.10/dist-packages (from roboflow) (6.0.1)\n",
            "Collecting requests-toolbelt (from roboflow)\n",
            "  Downloading requests_toolbelt-1.0.0-py2.py3-none-any.whl.metadata (14 kB)\n",
            "Collecting filetype (from roboflow)\n",
            "  Downloading filetype-1.2.0-py2.py3-none-any.whl.metadata (6.5 kB)\n",
            "Requirement already satisfied: contourpy>=1.0.1 in /usr/local/lib/python3.10/dist-packages (from matplotlib->roboflow) (1.2.1)\n",
            "Requirement already satisfied: fonttools>=4.22.0 in /usr/local/lib/python3.10/dist-packages (from matplotlib->roboflow) (4.53.1)\n",
            "Requirement already satisfied: packaging>=20.0 in /usr/local/lib/python3.10/dist-packages (from matplotlib->roboflow) (24.1)\n",
            "Requirement already satisfied: pyparsing>=2.3.1 in /usr/local/lib/python3.10/dist-packages (from matplotlib->roboflow) (3.1.2)\n",
            "Requirement already satisfied: charset-normalizer<4,>=2 in /usr/local/lib/python3.10/dist-packages (from requests->roboflow) (3.3.2)\n",
            "Downloading roboflow-1.1.36-py3-none-any.whl (76 kB)\n",
            "\u001b[2K   \u001b[90m━━━━━━━━━━━━━━━━━━━━━━━━━━━━━━━━━━━━━━━━\u001b[0m \u001b[32m76.7/76.7 kB\u001b[0m \u001b[31m4.2 MB/s\u001b[0m eta \u001b[36m0:00:00\u001b[0m\n",
            "\u001b[?25hDownloading chardet-4.0.0-py2.py3-none-any.whl (178 kB)\n",
            "\u001b[2K   \u001b[90m━━━━━━━━━━━━━━━━━━━━━━━━━━━━━━━━━━━━━━━━\u001b[0m \u001b[32m178.7/178.7 kB\u001b[0m \u001b[31m9.9 MB/s\u001b[0m eta \u001b[36m0:00:00\u001b[0m\n",
            "\u001b[?25hDownloading filetype-1.2.0-py2.py3-none-any.whl (19 kB)\n",
            "Downloading python_dotenv-1.0.1-py3-none-any.whl (19 kB)\n",
            "Downloading requests_toolbelt-1.0.0-py2.py3-none-any.whl (54 kB)\n",
            "\u001b[2K   \u001b[90m━━━━━━━━━━━━━━━━━━━━━━━━━━━━━━━━━━━━━━━━\u001b[0m \u001b[32m54.5/54.5 kB\u001b[0m \u001b[31m4.5 MB/s\u001b[0m eta \u001b[36m0:00:00\u001b[0m\n",
            "\u001b[?25hInstalling collected packages: filetype, python-dotenv, chardet, requests-toolbelt, roboflow\n",
            "  Attempting uninstall: chardet\n",
            "    Found existing installation: chardet 5.2.0\n",
            "    Uninstalling chardet-5.2.0:\n",
            "      Successfully uninstalled chardet-5.2.0\n",
            "Successfully installed chardet-4.0.0 filetype-1.2.0 python-dotenv-1.0.1 requests-toolbelt-1.0.0 roboflow-1.1.36\n",
            "loading Roboflow workspace...\n",
            "loading Roboflow project...\n",
            "[WARNING] we noticed you are downloading a `yolov8` datasets but you don't have `ultralytics` installed. Roboflow `.deploy` supports only models trained with `ultralytics==8.0.196`, to intall it `pip install ultralytics==8.0.196`.\n"
          ]
        },
        {
          "output_type": "stream",
          "name": "stderr",
          "text": [
            "Downloading Dataset Version Zip in People-Counting-2 to yolov8:: 100%|██████████| 3185243/3185243 [01:11<00:00, 44400.60it/s]"
          ]
        },
        {
          "output_type": "stream",
          "name": "stdout",
          "text": [
            "\n"
          ]
        },
        {
          "output_type": "stream",
          "name": "stderr",
          "text": [
            "\n",
            "Extracting Dataset Version Zip to People-Counting-2 in yolov8:: 100%|██████████| 92832/92832 [00:24<00:00, 3843.50it/s]\n"
          ]
        },
        {
          "output_type": "stream",
          "name": "stdout",
          "text": [
            "Dataset downloaded to: <roboflow.core.dataset.Dataset object at 0x7f2078db4490>\n",
            "\n",
            "Contents of the dataset directory:\n",
            "/bin/bash: -c: line 1: syntax error near unexpected token `newline'\n",
            "/bin/bash: -c: line 1: `ls <roboflow.core.dataset.Dataset object at 0x7f2078db4490>'\n"
          ]
        }
      ],
      "source": [
        "!pip install roboflow\n",
        "\n",
        "from roboflow import Roboflow\n",
        "import os\n",
        "\n",
        "# Roboflow API 키 설정\n",
        "rf = Roboflow(api_key=\"qthwFyiSbLdwOFVygVhW\")\n",
        "\n",
        "# 프로젝트와 데이터셋 버전 지정\n",
        "project = rf.workspace(\"tata-meta-19tsj\").project(\"people-counting-naew1\")\n",
        "version = project.version(2)\n",
        "\n",
        "# 데이터셋 다운로드\n",
        "dataset = version.download(\"yolov8\")\n",
        "\n",
        "# 다운로드된 데이터셋의 경로 출력\n",
        "print(\"Dataset downloaded to:\", dataset)\n",
        "\n",
        "# 데이터셋 내용 확인\n",
        "print(\"\\nContents of the dataset directory:\")\n",
        "!ls {dataset}"
      ]
    },
    {
      "cell_type": "code",
      "execution_count": 3,
      "metadata": {
        "colab": {
          "base_uri": "https://localhost:8080/"
        },
        "id": "5JnVe8RpFVtT",
        "outputId": "f5d95ed8-8f05-4d98-fa5d-29bf46dc853c"
      },
      "outputs": [
        {
          "output_type": "stream",
          "name": "stdout",
          "text": [
            "Requirement already satisfied: PyYAML in /usr/local/lib/python3.10/dist-packages (6.0.1)\n"
          ]
        }
      ],
      "source": [
        "!pip install PyYAML #파이썬에서 YAML 파일을 사용하기 위해서 PyYAML 라이브러리 설치"
      ]
    },
    {
      "cell_type": "code",
      "execution_count": 4,
      "metadata": {
        "colab": {
          "base_uri": "https://localhost:8080/",
          "height": 111
        },
        "id": "HvTIgJ03FYfO",
        "outputId": "ed6d7a67-96e7-49cb-9214-fa431d94f1f3"
      },
      "outputs": [
        {
          "output_type": "display_data",
          "data": {
            "text/plain": [
              "{'names': ['head', 'person'],\n",
              " 'nc': 2,\n",
              " 'test': '/content/Human/test/images/',\n",
              " 'train': '/content/Human/train/images/',\n",
              " 'val': '/content/Human/valid/images/'}"
            ]
          },
          "metadata": {}
        }
      ],
      "source": [
        "import yaml\n",
        "\n",
        "data = { 'train'  : '/content/Human/train/images/',\n",
        "         'val' : '/content/Human/valid/images/',\n",
        "         'test' : '/content/Human/test/images/',\n",
        "         'names' : ['head', 'person'],\n",
        "         'nc' : 2}\n",
        "\n",
        "with open('/content/Human/Human_Data.yaml', 'w') as f:\n",
        "  yaml.dump(data, f)\n",
        "\n",
        "with open ('/content/Human/Human_Data.yaml', 'r') as f:\n",
        "  Human_yaml = yaml.safe_load(f)\n",
        "  display(Human_yaml)\n"
      ]
    },
    {
      "cell_type": "code",
      "execution_count": 5,
      "metadata": {
        "id": "tXlsZnlmMD0g",
        "colab": {
          "base_uri": "https://localhost:8080/"
        },
        "outputId": "4f0e8ff5-7286-4eb3-9196-c8485fc7caca"
      },
      "outputs": [
        {
          "output_type": "stream",
          "name": "stdout",
          "text": [
            "YAML 파일이 생성되었습니다: /content/Human/Human_data.yaml\n",
            "내용:\n",
            "names:\n",
            "- head\n",
            "- person\n",
            "nc: 2\n",
            "test: /content/Human/test/images\n",
            "train: /content/Human/train/images\n",
            "val: /content/Human/valid/images\n",
            "\n"
          ]
        }
      ],
      "source": [
        "import yaml\n",
        "\n",
        "data = {\n",
        "    'train': '/content/Human/train/images',\n",
        "    'val': '/content/Human/valid/images',\n",
        "    'test': '/content/Human/test/images',\n",
        "    'nc': 2,  # 클래스 수\n",
        "    'names': ['head', 'person']  # 클래스 이름\n",
        "}\n",
        "\n",
        "os.makedirs('/content/Human', exist_ok=True)\n",
        "yaml_path = '/content/Human/Human_data.yaml'\n",
        "\n",
        "with open(yaml_path, 'w') as f:\n",
        "    yaml.dump(data, f)\n",
        "\n",
        "print(f\"YAML 파일이 생성되었습니다: {yaml_path}\")\n",
        "print(\"내용:\")\n",
        "print(yaml.dump(data, default_flow_style=False))"
      ]
    },
    {
      "cell_type": "code",
      "execution_count": 6,
      "metadata": {
        "colab": {
          "base_uri": "https://localhost:8080/"
        },
        "id": "Z4aCuQVGIxe_",
        "outputId": "ea8b8e12-d265-4fae-bad9-ecda1f0be17a"
      },
      "outputs": [
        {
          "output_type": "stream",
          "name": "stdout",
          "text": [
            "Collecting ultralytics\n",
            "  Downloading ultralytics-8.2.67-py3-none-any.whl.metadata (41 kB)\n",
            "\u001b[?25l     \u001b[90m━━━━━━━━━━━━━━━━━━━━━━━━━━━━━━━━━━━━━━━━\u001b[0m \u001b[32m0.0/41.3 kB\u001b[0m \u001b[31m?\u001b[0m eta \u001b[36m-:--:--\u001b[0m\r\u001b[2K     \u001b[90m━━━━━━━━━━━━━━━━━━━━━━━━━━━━━━━━━━━━━━━━\u001b[0m \u001b[32m41.3/41.3 kB\u001b[0m \u001b[31m2.4 MB/s\u001b[0m eta \u001b[36m0:00:00\u001b[0m\n",
            "\u001b[?25hRequirement already satisfied: numpy<2.0.0,>=1.23.0 in /usr/local/lib/python3.10/dist-packages (from ultralytics) (1.25.2)\n",
            "Requirement already satisfied: matplotlib>=3.3.0 in /usr/local/lib/python3.10/dist-packages (from ultralytics) (3.7.1)\n",
            "Requirement already satisfied: opencv-python>=4.6.0 in /usr/local/lib/python3.10/dist-packages (from ultralytics) (4.10.0.84)\n",
            "Requirement already satisfied: pillow>=7.1.2 in /usr/local/lib/python3.10/dist-packages (from ultralytics) (9.4.0)\n",
            "Requirement already satisfied: pyyaml>=5.3.1 in /usr/local/lib/python3.10/dist-packages (from ultralytics) (6.0.1)\n",
            "Requirement already satisfied: requests>=2.23.0 in /usr/local/lib/python3.10/dist-packages (from ultralytics) (2.31.0)\n",
            "Requirement already satisfied: scipy>=1.4.1 in /usr/local/lib/python3.10/dist-packages (from ultralytics) (1.13.1)\n",
            "Requirement already satisfied: torch>=1.8.0 in /usr/local/lib/python3.10/dist-packages (from ultralytics) (2.3.1+cu121)\n",
            "Requirement already satisfied: torchvision>=0.9.0 in /usr/local/lib/python3.10/dist-packages (from ultralytics) (0.18.1+cu121)\n",
            "Requirement already satisfied: tqdm>=4.64.0 in /usr/local/lib/python3.10/dist-packages (from ultralytics) (4.66.4)\n",
            "Requirement already satisfied: psutil in /usr/local/lib/python3.10/dist-packages (from ultralytics) (5.9.5)\n",
            "Requirement already satisfied: py-cpuinfo in /usr/local/lib/python3.10/dist-packages (from ultralytics) (9.0.0)\n",
            "Requirement already satisfied: pandas>=1.1.4 in /usr/local/lib/python3.10/dist-packages (from ultralytics) (2.0.3)\n",
            "Requirement already satisfied: seaborn>=0.11.0 in /usr/local/lib/python3.10/dist-packages (from ultralytics) (0.13.1)\n",
            "Collecting ultralytics-thop>=2.0.0 (from ultralytics)\n",
            "  Downloading ultralytics_thop-2.0.0-py3-none-any.whl.metadata (8.5 kB)\n",
            "Requirement already satisfied: contourpy>=1.0.1 in /usr/local/lib/python3.10/dist-packages (from matplotlib>=3.3.0->ultralytics) (1.2.1)\n",
            "Requirement already satisfied: cycler>=0.10 in /usr/local/lib/python3.10/dist-packages (from matplotlib>=3.3.0->ultralytics) (0.12.1)\n",
            "Requirement already satisfied: fonttools>=4.22.0 in /usr/local/lib/python3.10/dist-packages (from matplotlib>=3.3.0->ultralytics) (4.53.1)\n",
            "Requirement already satisfied: kiwisolver>=1.0.1 in /usr/local/lib/python3.10/dist-packages (from matplotlib>=3.3.0->ultralytics) (1.4.5)\n",
            "Requirement already satisfied: packaging>=20.0 in /usr/local/lib/python3.10/dist-packages (from matplotlib>=3.3.0->ultralytics) (24.1)\n",
            "Requirement already satisfied: pyparsing>=2.3.1 in /usr/local/lib/python3.10/dist-packages (from matplotlib>=3.3.0->ultralytics) (3.1.2)\n",
            "Requirement already satisfied: python-dateutil>=2.7 in /usr/local/lib/python3.10/dist-packages (from matplotlib>=3.3.0->ultralytics) (2.8.2)\n",
            "Requirement already satisfied: pytz>=2020.1 in /usr/local/lib/python3.10/dist-packages (from pandas>=1.1.4->ultralytics) (2024.1)\n",
            "Requirement already satisfied: tzdata>=2022.1 in /usr/local/lib/python3.10/dist-packages (from pandas>=1.1.4->ultralytics) (2024.1)\n",
            "Requirement already satisfied: charset-normalizer<4,>=2 in /usr/local/lib/python3.10/dist-packages (from requests>=2.23.0->ultralytics) (3.3.2)\n",
            "Requirement already satisfied: idna<4,>=2.5 in /usr/local/lib/python3.10/dist-packages (from requests>=2.23.0->ultralytics) (3.7)\n",
            "Requirement already satisfied: urllib3<3,>=1.21.1 in /usr/local/lib/python3.10/dist-packages (from requests>=2.23.0->ultralytics) (2.0.7)\n",
            "Requirement already satisfied: certifi>=2017.4.17 in /usr/local/lib/python3.10/dist-packages (from requests>=2.23.0->ultralytics) (2024.7.4)\n",
            "Requirement already satisfied: filelock in /usr/local/lib/python3.10/dist-packages (from torch>=1.8.0->ultralytics) (3.15.4)\n",
            "Requirement already satisfied: typing-extensions>=4.8.0 in /usr/local/lib/python3.10/dist-packages (from torch>=1.8.0->ultralytics) (4.12.2)\n",
            "Requirement already satisfied: sympy in /usr/local/lib/python3.10/dist-packages (from torch>=1.8.0->ultralytics) (1.13.1)\n",
            "Requirement already satisfied: networkx in /usr/local/lib/python3.10/dist-packages (from torch>=1.8.0->ultralytics) (3.3)\n",
            "Requirement already satisfied: jinja2 in /usr/local/lib/python3.10/dist-packages (from torch>=1.8.0->ultralytics) (3.1.4)\n",
            "Requirement already satisfied: fsspec in /usr/local/lib/python3.10/dist-packages (from torch>=1.8.0->ultralytics) (2024.6.1)\n",
            "Collecting nvidia-cuda-nvrtc-cu12==12.1.105 (from torch>=1.8.0->ultralytics)\n",
            "  Using cached nvidia_cuda_nvrtc_cu12-12.1.105-py3-none-manylinux1_x86_64.whl.metadata (1.5 kB)\n",
            "Collecting nvidia-cuda-runtime-cu12==12.1.105 (from torch>=1.8.0->ultralytics)\n",
            "  Using cached nvidia_cuda_runtime_cu12-12.1.105-py3-none-manylinux1_x86_64.whl.metadata (1.5 kB)\n",
            "Collecting nvidia-cuda-cupti-cu12==12.1.105 (from torch>=1.8.0->ultralytics)\n",
            "  Using cached nvidia_cuda_cupti_cu12-12.1.105-py3-none-manylinux1_x86_64.whl.metadata (1.6 kB)\n",
            "Collecting nvidia-cudnn-cu12==8.9.2.26 (from torch>=1.8.0->ultralytics)\n",
            "  Using cached nvidia_cudnn_cu12-8.9.2.26-py3-none-manylinux1_x86_64.whl.metadata (1.6 kB)\n",
            "Collecting nvidia-cublas-cu12==12.1.3.1 (from torch>=1.8.0->ultralytics)\n",
            "  Using cached nvidia_cublas_cu12-12.1.3.1-py3-none-manylinux1_x86_64.whl.metadata (1.5 kB)\n",
            "Collecting nvidia-cufft-cu12==11.0.2.54 (from torch>=1.8.0->ultralytics)\n",
            "  Using cached nvidia_cufft_cu12-11.0.2.54-py3-none-manylinux1_x86_64.whl.metadata (1.5 kB)\n",
            "Collecting nvidia-curand-cu12==10.3.2.106 (from torch>=1.8.0->ultralytics)\n",
            "  Using cached nvidia_curand_cu12-10.3.2.106-py3-none-manylinux1_x86_64.whl.metadata (1.5 kB)\n",
            "Collecting nvidia-cusolver-cu12==11.4.5.107 (from torch>=1.8.0->ultralytics)\n",
            "  Using cached nvidia_cusolver_cu12-11.4.5.107-py3-none-manylinux1_x86_64.whl.metadata (1.6 kB)\n",
            "Collecting nvidia-cusparse-cu12==12.1.0.106 (from torch>=1.8.0->ultralytics)\n",
            "  Using cached nvidia_cusparse_cu12-12.1.0.106-py3-none-manylinux1_x86_64.whl.metadata (1.6 kB)\n",
            "Collecting nvidia-nccl-cu12==2.20.5 (from torch>=1.8.0->ultralytics)\n",
            "  Using cached nvidia_nccl_cu12-2.20.5-py3-none-manylinux2014_x86_64.whl.metadata (1.8 kB)\n",
            "Collecting nvidia-nvtx-cu12==12.1.105 (from torch>=1.8.0->ultralytics)\n",
            "  Using cached nvidia_nvtx_cu12-12.1.105-py3-none-manylinux1_x86_64.whl.metadata (1.7 kB)\n",
            "Requirement already satisfied: triton==2.3.1 in /usr/local/lib/python3.10/dist-packages (from torch>=1.8.0->ultralytics) (2.3.1)\n",
            "Collecting nvidia-nvjitlink-cu12 (from nvidia-cusolver-cu12==11.4.5.107->torch>=1.8.0->ultralytics)\n",
            "  Downloading nvidia_nvjitlink_cu12-12.5.82-py3-none-manylinux2014_x86_64.whl.metadata (1.5 kB)\n",
            "Requirement already satisfied: six>=1.5 in /usr/local/lib/python3.10/dist-packages (from python-dateutil>=2.7->matplotlib>=3.3.0->ultralytics) (1.16.0)\n",
            "Requirement already satisfied: MarkupSafe>=2.0 in /usr/local/lib/python3.10/dist-packages (from jinja2->torch>=1.8.0->ultralytics) (2.1.5)\n",
            "Requirement already satisfied: mpmath<1.4,>=1.1.0 in /usr/local/lib/python3.10/dist-packages (from sympy->torch>=1.8.0->ultralytics) (1.3.0)\n",
            "Downloading ultralytics-8.2.67-py3-none-any.whl (825 kB)\n",
            "\u001b[2K   \u001b[90m━━━━━━━━━━━━━━━━━━━━━━━━━━━━━━━━━━━━━━━━\u001b[0m \u001b[32m825.6/825.6 kB\u001b[0m \u001b[31m22.4 MB/s\u001b[0m eta \u001b[36m0:00:00\u001b[0m\n",
            "\u001b[?25hUsing cached nvidia_cublas_cu12-12.1.3.1-py3-none-manylinux1_x86_64.whl (410.6 MB)\n",
            "Using cached nvidia_cuda_cupti_cu12-12.1.105-py3-none-manylinux1_x86_64.whl (14.1 MB)\n",
            "Using cached nvidia_cuda_nvrtc_cu12-12.1.105-py3-none-manylinux1_x86_64.whl (23.7 MB)\n",
            "Using cached nvidia_cuda_runtime_cu12-12.1.105-py3-none-manylinux1_x86_64.whl (823 kB)\n",
            "Using cached nvidia_cudnn_cu12-8.9.2.26-py3-none-manylinux1_x86_64.whl (731.7 MB)\n",
            "Using cached nvidia_cufft_cu12-11.0.2.54-py3-none-manylinux1_x86_64.whl (121.6 MB)\n",
            "Using cached nvidia_curand_cu12-10.3.2.106-py3-none-manylinux1_x86_64.whl (56.5 MB)\n",
            "Using cached nvidia_cusolver_cu12-11.4.5.107-py3-none-manylinux1_x86_64.whl (124.2 MB)\n",
            "Using cached nvidia_cusparse_cu12-12.1.0.106-py3-none-manylinux1_x86_64.whl (196.0 MB)\n",
            "Using cached nvidia_nccl_cu12-2.20.5-py3-none-manylinux2014_x86_64.whl (176.2 MB)\n",
            "Using cached nvidia_nvtx_cu12-12.1.105-py3-none-manylinux1_x86_64.whl (99 kB)\n",
            "Downloading ultralytics_thop-2.0.0-py3-none-any.whl (25 kB)\n",
            "Downloading nvidia_nvjitlink_cu12-12.5.82-py3-none-manylinux2014_x86_64.whl (21.3 MB)\n",
            "\u001b[2K   \u001b[90m━━━━━━━━━━━━━━━━━━━━━━━━━━━━━━━━━━━━━━━━\u001b[0m \u001b[32m21.3/21.3 MB\u001b[0m \u001b[31m38.5 MB/s\u001b[0m eta \u001b[36m0:00:00\u001b[0m\n",
            "\u001b[?25hInstalling collected packages: nvidia-nvtx-cu12, nvidia-nvjitlink-cu12, nvidia-nccl-cu12, nvidia-curand-cu12, nvidia-cufft-cu12, nvidia-cuda-runtime-cu12, nvidia-cuda-nvrtc-cu12, nvidia-cuda-cupti-cu12, nvidia-cublas-cu12, nvidia-cusparse-cu12, nvidia-cudnn-cu12, nvidia-cusolver-cu12, ultralytics-thop, ultralytics\n",
            "Successfully installed nvidia-cublas-cu12-12.1.3.1 nvidia-cuda-cupti-cu12-12.1.105 nvidia-cuda-nvrtc-cu12-12.1.105 nvidia-cuda-runtime-cu12-12.1.105 nvidia-cudnn-cu12-8.9.2.26 nvidia-cufft-cu12-11.0.2.54 nvidia-curand-cu12-10.3.2.106 nvidia-cusolver-cu12-11.4.5.107 nvidia-cusparse-cu12-12.1.0.106 nvidia-nccl-cu12-2.20.5 nvidia-nvjitlink-cu12-12.5.82 nvidia-nvtx-cu12-12.1.105 ultralytics-8.2.67 ultralytics-thop-2.0.0\n"
          ]
        }
      ],
      "source": [
        "!pip install ultralytics"
      ]
    },
    {
      "cell_type": "code",
      "execution_count": 7,
      "metadata": {
        "colab": {
          "base_uri": "https://localhost:8080/"
        },
        "id": "O3c5EigrI4z9",
        "outputId": "340d806d-0603-42f2-b8c1-6df3a28ff961"
      },
      "outputs": [
        {
          "output_type": "stream",
          "name": "stdout",
          "text": [
            "Downloading https://github.com/ultralytics/assets/releases/download/v8.2.0/yolov8n.pt to 'yolov8n.pt'...\n"
          ]
        },
        {
          "output_type": "stream",
          "name": "stderr",
          "text": [
            "100%|██████████| 6.25M/6.25M [00:00<00:00, 79.7MB/s]\n"
          ]
        }
      ],
      "source": [
        "from ultralytics import YOLO\n",
        "\n",
        "model = YOLO('yolov8n.pt')"
      ]
    },
    {
      "cell_type": "code",
      "execution_count": 8,
      "metadata": {
        "colab": {
          "base_uri": "https://localhost:8080/"
        },
        "id": "o0Vbx4-0JK9b",
        "outputId": "9dbd5e45-d968-4f91-b459-c9c042f5e360"
      },
      "outputs": [
        {
          "output_type": "stream",
          "name": "stdout",
          "text": [
            "<class 'dict'> 80\n",
            "{0: 'person', 1: 'bicycle', 2: 'car', 3: 'motorcycle', 4: 'airplane', 5: 'bus', 6: 'train', 7: 'truck', 8: 'boat', 9: 'traffic light', 10: 'fire hydrant', 11: 'stop sign', 12: 'parking meter', 13: 'bench', 14: 'bird', 15: 'cat', 16: 'dog', 17: 'horse', 18: 'sheep', 19: 'cow', 20: 'elephant', 21: 'bear', 22: 'zebra', 23: 'giraffe', 24: 'backpack', 25: 'umbrella', 26: 'handbag', 27: 'tie', 28: 'suitcase', 29: 'frisbee', 30: 'skis', 31: 'snowboard', 32: 'sports ball', 33: 'kite', 34: 'baseball bat', 35: 'baseball glove', 36: 'skateboard', 37: 'surfboard', 38: 'tennis racket', 39: 'bottle', 40: 'wine glass', 41: 'cup', 42: 'fork', 43: 'knife', 44: 'spoon', 45: 'bowl', 46: 'banana', 47: 'apple', 48: 'sandwich', 49: 'orange', 50: 'broccoli', 51: 'carrot', 52: 'hot dog', 53: 'pizza', 54: 'donut', 55: 'cake', 56: 'chair', 57: 'couch', 58: 'potted plant', 59: 'bed', 60: 'dining table', 61: 'toilet', 62: 'tv', 63: 'laptop', 64: 'mouse', 65: 'remote', 66: 'keyboard', 67: 'cell phone', 68: 'microwave', 69: 'oven', 70: 'toaster', 71: 'sink', 72: 'refrigerator', 73: 'book', 74: 'clock', 75: 'vase', 76: 'scissors', 77: 'teddy bear', 78: 'hair drier', 79: 'toothbrush'}\n"
          ]
        }
      ],
      "source": [
        "print(type(model.names), len(model.names))\n",
        "\n",
        "print(model.names)"
      ]
    },
    {
      "cell_type": "code",
      "source": [
        "from torch import cuda\n",
        "\n",
        "device = 'cuda' if cuda.is_available() else 'cpu'\n",
        "print(f'Training MNIST Model on {device}\\n{\"=\"*44}')"
      ],
      "metadata": {
        "colab": {
          "base_uri": "https://localhost:8080/"
        },
        "id": "x-4XxIVhUgQl",
        "outputId": "7f9a7c1b-8a0a-4f96-9d60-c9979816b10b"
      },
      "execution_count": 10,
      "outputs": [
        {
          "output_type": "stream",
          "name": "stdout",
          "text": [
            "Training MNIST Model on cuda\n",
            "============================================\n"
          ]
        }
      ]
    },
    {
      "cell_type": "code",
      "execution_count": null,
      "metadata": {
        "colab": {
          "base_uri": "https://localhost:8080/"
        },
        "id": "6FJqZVUmJeB8",
        "outputId": "67d1453a-7772-48a4-c359-45ec025bc4e3"
      },
      "outputs": [
        {
          "output_type": "stream",
          "name": "stdout",
          "text": [
            "CUDA available: True\n",
            "Ultralytics YOLOv8.2.67 🚀 Python-3.10.12 torch-2.3.1+cu121 CUDA:0 (Tesla T4, 15102MiB)\n",
            "\u001b[34m\u001b[1mengine/trainer: \u001b[0mtask=detect, mode=train, model=yolov8n.pt, data=/content/Human/Human_data.yaml, epochs=100, time=None, patience=30, batch=32, imgsz=416, save=True, save_period=-1, cache=False, device=None, workers=8, project=None, name=train2, exist_ok=False, pretrained=True, optimizer=auto, verbose=True, seed=0, deterministic=True, single_cls=False, rect=False, cos_lr=False, close_mosaic=10, resume=False, amp=True, fraction=1.0, profile=False, freeze=None, multi_scale=False, overlap_mask=True, mask_ratio=4, dropout=0.0, val=True, split=val, save_json=False, save_hybrid=False, conf=None, iou=0.7, max_det=300, half=False, dnn=False, plots=True, source=None, vid_stride=1, stream_buffer=False, visualize=False, augment=False, agnostic_nms=False, classes=None, retina_masks=False, embed=None, show=False, save_frames=False, save_txt=False, save_conf=False, save_crop=False, show_labels=True, show_conf=True, show_boxes=True, line_width=None, format=torchscript, keras=False, optimize=False, int8=False, dynamic=False, simplify=False, opset=None, workspace=4, nms=False, lr0=0.01, lrf=0.01, momentum=0.937, weight_decay=0.0005, warmup_epochs=3.0, warmup_momentum=0.8, warmup_bias_lr=0.1, box=7.5, cls=0.5, dfl=1.5, pose=12.0, kobj=1.0, label_smoothing=0.0, nbs=64, hsv_h=0.015, hsv_s=0.7, hsv_v=0.4, degrees=0.0, translate=0.1, scale=0.5, shear=0.0, perspective=0.0, flipud=0.0, fliplr=0.5, bgr=0.0, mosaic=1.0, mixup=0.0, copy_paste=0.0, auto_augment=randaugment, erasing=0.4, crop_fraction=1.0, cfg=None, tracker=botsort.yaml, save_dir=runs/detect/train2\n",
            "\n",
            "                   from  n    params  module                                       arguments                     \n",
            "  0                  -1  1       464  ultralytics.nn.modules.conv.Conv             [3, 16, 3, 2]                 \n",
            "  1                  -1  1      4672  ultralytics.nn.modules.conv.Conv             [16, 32, 3, 2]                \n",
            "  2                  -1  1      7360  ultralytics.nn.modules.block.C2f             [32, 32, 1, True]             \n",
            "  3                  -1  1     18560  ultralytics.nn.modules.conv.Conv             [32, 64, 3, 2]                \n",
            "  4                  -1  2     49664  ultralytics.nn.modules.block.C2f             [64, 64, 2, True]             \n",
            "  5                  -1  1     73984  ultralytics.nn.modules.conv.Conv             [64, 128, 3, 2]               \n",
            "  6                  -1  2    197632  ultralytics.nn.modules.block.C2f             [128, 128, 2, True]           \n",
            "  7                  -1  1    295424  ultralytics.nn.modules.conv.Conv             [128, 256, 3, 2]              \n",
            "  8                  -1  1    460288  ultralytics.nn.modules.block.C2f             [256, 256, 1, True]           \n",
            "  9                  -1  1    164608  ultralytics.nn.modules.block.SPPF            [256, 256, 5]                 \n",
            " 10                  -1  1         0  torch.nn.modules.upsampling.Upsample         [None, 2, 'nearest']          \n",
            " 11             [-1, 6]  1         0  ultralytics.nn.modules.conv.Concat           [1]                           \n",
            " 12                  -1  1    148224  ultralytics.nn.modules.block.C2f             [384, 128, 1]                 \n",
            " 13                  -1  1         0  torch.nn.modules.upsampling.Upsample         [None, 2, 'nearest']          \n",
            " 14             [-1, 4]  1         0  ultralytics.nn.modules.conv.Concat           [1]                           \n",
            " 15                  -1  1     37248  ultralytics.nn.modules.block.C2f             [192, 64, 1]                  \n",
            " 16                  -1  1     36992  ultralytics.nn.modules.conv.Conv             [64, 64, 3, 2]                \n",
            " 17            [-1, 12]  1         0  ultralytics.nn.modules.conv.Concat           [1]                           \n",
            " 18                  -1  1    123648  ultralytics.nn.modules.block.C2f             [192, 128, 1]                 \n",
            " 19                  -1  1    147712  ultralytics.nn.modules.conv.Conv             [128, 128, 3, 2]              \n",
            " 20             [-1, 9]  1         0  ultralytics.nn.modules.conv.Concat           [1]                           \n",
            " 21                  -1  1    493056  ultralytics.nn.modules.block.C2f             [384, 256, 1]                 \n",
            " 22        [15, 18, 21]  1    751702  ultralytics.nn.modules.head.Detect           [2, [64, 128, 256]]           \n",
            "Model summary: 225 layers, 3,011,238 parameters, 3,011,222 gradients, 8.2 GFLOPs\n",
            "\n",
            "Transferred 355/355 items from pretrained weights\n",
            "\u001b[34m\u001b[1mTensorBoard: \u001b[0mStart with 'tensorboard --logdir runs/detect/train2', view at http://localhost:6006/\n",
            "Freezing layer 'model.22.dfl.conv.weight'\n",
            "\u001b[34m\u001b[1mAMP: \u001b[0mrunning Automatic Mixed Precision (AMP) checks with YOLOv8n...\n",
            "\u001b[34m\u001b[1mAMP: \u001b[0mchecks passed ✅\n"
          ]
        },
        {
          "output_type": "stream",
          "name": "stderr",
          "text": [
            "\u001b[34m\u001b[1mtrain: \u001b[0mScanning /content/Human/train/labels.cache... 40600 images, 0 backgrounds, 0 corrupt: 100%|██████████| 40600/40600 [00:00<?, ?it/s]"
          ]
        },
        {
          "output_type": "stream",
          "name": "stdout",
          "text": [
            "\u001b[34m\u001b[1mtrain: \u001b[0mWARNING ⚠️ /content/Human/train/images/273271-ff64000f8633fe2_jpg.rf.4479da837abe69995f8d06b6ea4e14b6.jpg: 1 duplicate labels removed\n",
            "\u001b[34m\u001b[1mtrain: \u001b[0mWARNING ⚠️ /content/Human/train/images/273271-ff64000f8633fe2_jpg.rf.78d3e820e365e545c9f5542bd97f1bb7.jpg: 1 duplicate labels removed\n",
            "\u001b[34m\u001b[1mtrain: \u001b[0mWARNING ⚠️ /content/Human/train/images/273275-10f7a600025e14d20_jpg.rf.5eb58654c4a08ceb043e3b94a58f6cc9.jpg: 1 duplicate labels removed\n",
            "\u001b[34m\u001b[1mtrain: \u001b[0mWARNING ⚠️ /content/Human/train/images/273275-10f7a600025e14d20_jpg.rf.ea24f7d3fcd20099bda7386660d3ca61.jpg: 1 duplicate labels removed\n",
            "\u001b[34m\u001b[1mtrain: \u001b[0mWARNING ⚠️ /content/Human/train/images/273275-10f7a600025e14d20_jpg.rf.f813397c7d22e7f087b7406c8ed3ccc5.jpg: 1 duplicate labels removed\n",
            "\u001b[34m\u001b[1mtrain: \u001b[0mWARNING ⚠️ /content/Human/train/images/273275-111470006a465947_jpg.rf.adcca0a18edd8b02bb9e21b0d5eaa4b4.jpg: 1 duplicate labels removed\n",
            "\u001b[34m\u001b[1mtrain: \u001b[0mWARNING ⚠️ /content/Human/train/images/273275-111470006a465947_jpg.rf.b0228619e28fb676e5289b4e9dec0cd4.jpg: 1 duplicate labels removed\n",
            "\u001b[34m\u001b[1mtrain: \u001b[0mWARNING ⚠️ /content/Human/train/images/273275-111470006a465947_jpg.rf.f8911deaca02c6ffef03daebb61f17bc.jpg: 1 duplicate labels removed\n",
            "\u001b[34m\u001b[1mtrain: \u001b[0mWARNING ⚠️ /content/Human/train/images/273275-1135300032a1fd33_jpg.rf.2da847105731b8a5ab460c092814330d.jpg: 1 duplicate labels removed\n",
            "\u001b[34m\u001b[1mtrain: \u001b[0mWARNING ⚠️ /content/Human/train/images/273275-1135300032a1fd33_jpg.rf.2f5a7cc2deeb69ef5f251b1576087603.jpg: 1 duplicate labels removed\n",
            "\u001b[34m\u001b[1mtrain: \u001b[0mWARNING ⚠️ /content/Human/train/images/273275-1135300032a1fd33_jpg.rf.f1a69addecd427d0ccc1511a3edab4be.jpg: 1 duplicate labels removed\n",
            "\u001b[34m\u001b[1mtrain: \u001b[0mWARNING ⚠️ /content/Human/train/images/273275-144e25000236d154d_jpg.rf.4bf6246fdad9bd2b031c3a1bcc39210c.jpg: 1 duplicate labels removed\n",
            "\u001b[34m\u001b[1mtrain: \u001b[0mWARNING ⚠️ /content/Human/train/images/273275-144e25000236d154d_jpg.rf.eceda579c114da38164f5848db0b0fa0.jpg: 1 duplicate labels removed\n",
            "\u001b[34m\u001b[1mtrain: \u001b[0mWARNING ⚠️ /content/Human/train/images/273275-15e80000245c3149_jpg.rf.0ef84b7c2c31f50e188f8b92ad232556.jpg: 1 duplicate labels removed\n",
            "\u001b[34m\u001b[1mtrain: \u001b[0mWARNING ⚠️ /content/Human/train/images/273275-15e80000245c3149_jpg.rf.863a165544af30da5dcda933f958a67f.jpg: 1 duplicate labels removed\n",
            "\u001b[34m\u001b[1mtrain: \u001b[0mWARNING ⚠️ /content/Human/train/images/273275-15e80000245c3149_jpg.rf.c462c6a48273f4784980646ecaa0c452.jpg: 1 duplicate labels removed\n",
            "\u001b[34m\u001b[1mtrain: \u001b[0mWARNING ⚠️ /content/Human/train/images/273275-197300005b42ef5d_jpg.rf.1eff487e42556f404d4ca70bc583fa84.jpg: 1 duplicate labels removed\n",
            "\u001b[34m\u001b[1mtrain: \u001b[0mWARNING ⚠️ /content/Human/train/images/273275-197300005b42ef5d_jpg.rf.e222c97b1912b1658c2c3c5bbc1fa7d3.jpg: 1 duplicate labels removed\n",
            "\u001b[34m\u001b[1mtrain: \u001b[0mWARNING ⚠️ /content/Human/train/images/273275-21aff0001ec7c0dd_jpg.rf.25c4c27319130036abfbaa11d8aac97d.jpg: 1 duplicate labels removed\n",
            "\u001b[34m\u001b[1mtrain: \u001b[0mWARNING ⚠️ /content/Human/train/images/273275-21aff0001ec7c0dd_jpg.rf.cc9f16be836723983337524bfc8a2723.jpg: 1 duplicate labels removed\n",
            "\u001b[34m\u001b[1mtrain: \u001b[0mWARNING ⚠️ /content/Human/train/images/273275-22d8800006cb17cb_jpg.rf.39e9f4602203c194044632e54c704821.jpg: 1 duplicate labels removed\n",
            "\u001b[34m\u001b[1mtrain: \u001b[0mWARNING ⚠️ /content/Human/train/images/273275-22d8800006cb17cb_jpg.rf.8327b94cb3e065dd7c4b3af55dfe8fb4.jpg: 1 duplicate labels removed\n",
            "\u001b[34m\u001b[1mtrain: \u001b[0mWARNING ⚠️ /content/Human/train/images/273275-22d8800006cb17cb_jpg.rf.923922bfc1aaccc5f2be151985ce2c31.jpg: 1 duplicate labels removed\n",
            "\u001b[34m\u001b[1mtrain: \u001b[0mWARNING ⚠️ /content/Human/train/images/273275-30ac8000fef5d89d_jpg.rf.82210cb6f94bbb94d2001e4ffb9b85fd.jpg: 1 duplicate labels removed\n",
            "\u001b[34m\u001b[1mtrain: \u001b[0mWARNING ⚠️ /content/Human/train/images/273275-30ac8000fef5d89d_jpg.rf.9159148706ecc44a50cd18f17770ff86.jpg: 1 duplicate labels removed\n",
            "\u001b[34m\u001b[1mtrain: \u001b[0mWARNING ⚠️ /content/Human/train/images/273275-361770005887ac7e_jpg.rf.35b0c241dc1f3a5d660852531199561a.jpg: 1 duplicate labels removed\n",
            "\u001b[34m\u001b[1mtrain: \u001b[0mWARNING ⚠️ /content/Human/train/images/273275-361770005887ac7e_jpg.rf.412b59a7c81d9d9c3374fe02c079b1ee.jpg: 1 duplicate labels removed\n",
            "\u001b[34m\u001b[1mtrain: \u001b[0mWARNING ⚠️ /content/Human/train/images/273275-36cc4000c1fb4fda_jpg.rf.f5f377a67ddd9201d2536f3015c8f6af.jpg: 1 duplicate labels removed\n",
            "\u001b[34m\u001b[1mtrain: \u001b[0mWARNING ⚠️ /content/Human/train/images/273275-4feae000cc458ed1_jpg.rf.b64ce4c14457d2de9ff554e235accd0b.jpg: 1 duplicate labels removed\n",
            "\u001b[34m\u001b[1mtrain: \u001b[0mWARNING ⚠️ /content/Human/train/images/273275-4feae000cc458ed1_jpg.rf.dfb5363059a389997afe9d0afbac27cb.jpg: 1 duplicate labels removed\n",
            "\u001b[34m\u001b[1mtrain: \u001b[0mWARNING ⚠️ /content/Human/train/images/273275-4feae000cc458ed1_jpg.rf.ffbc919aeb788990e869654b68384335.jpg: 1 duplicate labels removed\n",
            "\u001b[34m\u001b[1mtrain: \u001b[0mWARNING ⚠️ /content/Human/train/images/273275-5389000a09de574_jpg.rf.74b664fb6185d57801cf4dcf143a0b2f.jpg: 1 duplicate labels removed\n",
            "\u001b[34m\u001b[1mtrain: \u001b[0mWARNING ⚠️ /content/Human/train/images/273275-5389000a09de574_jpg.rf.9eeb69b8916a39f19c190b3a2a3af198.jpg: 1 duplicate labels removed\n",
            "\u001b[34m\u001b[1mtrain: \u001b[0mWARNING ⚠️ /content/Human/train/images/273275-5389000a09de574_jpg.rf.e76aea03c181b78c72f9b570bd9bac06.jpg: 1 duplicate labels removed\n",
            "\u001b[34m\u001b[1mtrain: \u001b[0mWARNING ⚠️ /content/Human/train/images/273275-5edc0007a8f2cd0_jpg.rf.1a0c29c8e10f76a7b6de271570954af5.jpg: 1 duplicate labels removed\n",
            "\u001b[34m\u001b[1mtrain: \u001b[0mWARNING ⚠️ /content/Human/train/images/273275-5edc0007a8f2cd0_jpg.rf.4b12da5062053ebb0fe018238bff85c8.jpg: 1 duplicate labels removed\n",
            "\u001b[34m\u001b[1mtrain: \u001b[0mWARNING ⚠️ /content/Human/train/images/273275-712ea0001c24bcab_jpg.rf.0d0228ed96bc5ee51b5f68a5602ece07.jpg: 1 duplicate labels removed\n",
            "\u001b[34m\u001b[1mtrain: \u001b[0mWARNING ⚠️ /content/Human/train/images/273275-712ea0001c24bcab_jpg.rf.797a1381e88b0653e6571f46824fe398.jpg: 1 duplicate labels removed\n",
            "\u001b[34m\u001b[1mtrain: \u001b[0mWARNING ⚠️ /content/Human/train/images/273275-712ea0001c24bcab_jpg.rf.955e5f2c15a2d7992c84cd9ea08316e2.jpg: 1 duplicate labels removed\n",
            "\u001b[34m\u001b[1mtrain: \u001b[0mWARNING ⚠️ /content/Human/train/images/273275-73c1600057aa6394_jpg.rf.056e5b358bb25ad291ed650c12a0f7b1.jpg: 1 duplicate labels removed\n",
            "\u001b[34m\u001b[1mtrain: \u001b[0mWARNING ⚠️ /content/Human/train/images/273275-73c1600057aa6394_jpg.rf.47ca50d38882bdaf7cf306dfb3f06c28.jpg: 1 duplicate labels removed\n",
            "\u001b[34m\u001b[1mtrain: \u001b[0mWARNING ⚠️ /content/Human/train/images/273275-9a5d000faf69335_jpg.rf.93436f3819150509038a9f616565094e.jpg: 1 duplicate labels removed\n",
            "\u001b[34m\u001b[1mtrain: \u001b[0mWARNING ⚠️ /content/Human/train/images/273275-9a5d000faf69335_jpg.rf.eb324e767d1ca0afdc74ad4f3de169ff.jpg: 1 duplicate labels removed\n",
            "\u001b[34m\u001b[1mtrain: \u001b[0mWARNING ⚠️ /content/Human/train/images/273278-1018cc000bba884ac_jpg.rf.d51f29abdf4d8a1f2729acfa307d8e22.jpg: 1 duplicate labels removed\n",
            "\u001b[34m\u001b[1mtrain: \u001b[0mWARNING ⚠️ /content/Human/train/images/273278-1147e0000c037e664_jpg.rf.14f7c3b6c665d8b598d60f4ba25e7245.jpg: 1 duplicate labels removed\n",
            "\u001b[34m\u001b[1mtrain: \u001b[0mWARNING ⚠️ /content/Human/train/images/273278-1147e0000c037e664_jpg.rf.bbd6df5ecf07cf0ce7413fdae55723b0.jpg: 1 duplicate labels removed\n",
            "\u001b[34m\u001b[1mtrain: \u001b[0mWARNING ⚠️ /content/Human/train/images/273278-1147e0000c037e664_jpg.rf.f4495ae37aaa34d700609ec9a56212e6.jpg: 1 duplicate labels removed\n",
            "\u001b[34m\u001b[1mtrain: \u001b[0mWARNING ⚠️ /content/Human/train/images/273278-1171b400027d0a10a_jpg.rf.91a550acfcf1120279668788b577ff1e.jpg: 1 duplicate labels removed\n",
            "\u001b[34m\u001b[1mtrain: \u001b[0mWARNING ⚠️ /content/Human/train/images/273278-1171b400027d0a10a_jpg.rf.ae8ce1e15c67dd3cc74cc8d0ccac40ca.jpg: 1 duplicate labels removed\n",
            "\u001b[34m\u001b[1mtrain: \u001b[0mWARNING ⚠️ /content/Human/train/images/273278-11b1cf0008042b996_jpg.rf.3796344670ab674e185ae27fb312bb16.jpg: 1 duplicate labels removed\n",
            "\u001b[34m\u001b[1mtrain: \u001b[0mWARNING ⚠️ /content/Human/train/images/273278-11b1cf0008042b996_jpg.rf.3b29f7e40257fa480c4ef86bc666aa3b.jpg: 1 duplicate labels removed\n",
            "\u001b[34m\u001b[1mtrain: \u001b[0mWARNING ⚠️ /content/Human/train/images/273278-11b1cf0008042b996_jpg.rf.ece805355c6ab6bb379e9585452b490e.jpg: 1 duplicate labels removed\n",
            "\u001b[34m\u001b[1mtrain: \u001b[0mWARNING ⚠️ /content/Human/train/images/273278-35f4d000a53a393d_jpg.rf.180e699fa10d035c8e999a28955356cb.jpg: 1 duplicate labels removed\n",
            "\u001b[34m\u001b[1mtrain: \u001b[0mWARNING ⚠️ /content/Human/train/images/273278-35f4d000a53a393d_jpg.rf.6d00f7698148439fe00eae18f20e4a61.jpg: 1 duplicate labels removed\n",
            "\u001b[34m\u001b[1mtrain: \u001b[0mWARNING ⚠️ /content/Human/train/images/273278-35f4d000a53a393d_jpg.rf.b6764df9b198c3b2c792c7d3442e9413.jpg: 1 duplicate labels removed\n",
            "\u001b[34m\u001b[1mtrain: \u001b[0mWARNING ⚠️ /content/Human/train/images/273278-445a600048b52ba1_jpg.rf.a1693c815214a9160a398abd3a6a2e30.jpg: 1 duplicate labels removed\n",
            "\u001b[34m\u001b[1mtrain: \u001b[0mWARNING ⚠️ /content/Human/train/images/273278-51ac70006427da57_jpg.rf.517a589066842e44632575ade4b0dd59.jpg: 1 duplicate labels removed\n",
            "\u001b[34m\u001b[1mtrain: \u001b[0mWARNING ⚠️ /content/Human/train/images/273278-51ac70006427da57_jpg.rf.ea6fcefff843202fc1129823e4dd1842.jpg: 1 duplicate labels removed\n",
            "\u001b[34m\u001b[1mtrain: \u001b[0mWARNING ⚠️ /content/Human/train/images/273278-6398f000dc4fa731_jpg.rf.03940cda1b438e717389bd5794392e74.jpg: 1 duplicate labels removed\n",
            "\u001b[34m\u001b[1mtrain: \u001b[0mWARNING ⚠️ /content/Human/train/images/273278-6398f000dc4fa731_jpg.rf.2a16c5e2e99e506f889175fe31e14a7b.jpg: 1 duplicate labels removed\n",
            "\u001b[34m\u001b[1mtrain: \u001b[0mWARNING ⚠️ /content/Human/train/images/273278-6398f000dc4fa731_jpg.rf.ef41fe31c199fc18f959148c5cca50f8.jpg: 1 duplicate labels removed\n",
            "\u001b[34m\u001b[1mtrain: \u001b[0mWARNING ⚠️ /content/Human/train/images/273278-689d90002a9c4f57_jpg.rf.3c9ad55b759242950ca73566a7b1d137.jpg: 1 duplicate labels removed\n",
            "\u001b[34m\u001b[1mtrain: \u001b[0mWARNING ⚠️ /content/Human/train/images/273278-689d90002a9c4f57_jpg.rf.73299715f87c765039a38e94338ec1bb.jpg: 1 duplicate labels removed\n",
            "\u001b[34m\u001b[1mtrain: \u001b[0mWARNING ⚠️ /content/Human/train/images/273278-71233000de8facd5_jpg.rf.4a0c20e0ac9315ec026f4c6bbe14d1d5.jpg: 1 duplicate labels removed\n",
            "\u001b[34m\u001b[1mtrain: \u001b[0mWARNING ⚠️ /content/Human/train/images/273278-71233000de8facd5_jpg.rf.a73ab7bb136bf3f7f7311bf320c261a6.jpg: 1 duplicate labels removed\n",
            "\u001b[34m\u001b[1mtrain: \u001b[0mWARNING ⚠️ /content/Human/train/images/273278-77acc00068de57d0_jpg.rf.9fb3508d5727ea9e313a4bc75b0d7359.jpg: 1 duplicate labels removed\n",
            "\u001b[34m\u001b[1mtrain: \u001b[0mWARNING ⚠️ /content/Human/train/images/273278-7c26700072e82eb6_jpg.rf.8c3d907d2cf5cbc6bb439a15dda56283.jpg: 1 duplicate labels removed\n",
            "\u001b[34m\u001b[1mtrain: \u001b[0mWARNING ⚠️ /content/Human/train/images/273278-7c26700072e82eb6_jpg.rf.aa0537f646c4ad63ccc99d35535ea714.jpg: 1 duplicate labels removed\n",
            "\u001b[34m\u001b[1mtrain: \u001b[0mWARNING ⚠️ /content/Human/train/images/273278-7c26700072e82eb6_jpg.rf.d3dbebf57f0fe7676c03828efeb6b8cc.jpg: 1 duplicate labels removed\n",
            "\u001b[34m\u001b[1mtrain: \u001b[0mWARNING ⚠️ /content/Human/train/images/273278-9d09d00056a9887a_jpg.rf.2775497c9e2c08a7563904f0c55ef593.jpg: 1 duplicate labels removed\n",
            "\u001b[34m\u001b[1mtrain: \u001b[0mWARNING ⚠️ /content/Human/train/images/273278-9d09d00056a9887a_jpg.rf.ecd042b36b3c0fc7fda153f4aa23b0c2.jpg: 1 duplicate labels removed\n",
            "\u001b[34m\u001b[1mtrain: \u001b[0mWARNING ⚠️ /content/Human/train/images/273278-beadf00056736235_jpg.rf.02b420169dc40228e06cc86eee05f33e.jpg: 1 duplicate labels removed\n",
            "\u001b[34m\u001b[1mtrain: \u001b[0mWARNING ⚠️ /content/Human/train/images/273278-beadf00056736235_jpg.rf.b63b6db819a75f6d0917fceea9750ab5.jpg: 1 duplicate labels removed\n",
            "\u001b[34m\u001b[1mtrain: \u001b[0mWARNING ⚠️ /content/Human/train/images/273278-c739d0004342e6bc_jpg.rf.404edceddf119d0bd9057fb03bc50ea2.jpg: 1 duplicate labels removed\n",
            "\u001b[34m\u001b[1mtrain: \u001b[0mWARNING ⚠️ /content/Human/train/images/273278-c739d0004342e6bc_jpg.rf.6726320e1a5799ae0a927c77f8682458.jpg: 1 duplicate labels removed\n",
            "\u001b[34m\u001b[1mtrain: \u001b[0mWARNING ⚠️ /content/Human/train/images/273278-c739d0004342e6bc_jpg.rf.b9b732b5861861a33771a93b44878afc.jpg: 1 duplicate labels removed\n",
            "\u001b[34m\u001b[1mtrain: \u001b[0mWARNING ⚠️ /content/Human/train/images/273278-ff544000176df0a5_jpg.rf.212a16195f05322bc2db92d584d7868b.jpg: 1 duplicate labels removed\n",
            "\u001b[34m\u001b[1mtrain: \u001b[0mWARNING ⚠️ /content/Human/train/images/273278-ff544000176df0a5_jpg.rf.350c467b62fabe90392ef92a9fbf93d9.jpg: 1 duplicate labels removed\n",
            "\u001b[34m\u001b[1mtrain: \u001b[0mWARNING ⚠️ /content/Human/train/images/273278-ff544000176df0a5_jpg.rf.beb0509ddfccbaa41d77f5b91dd5ac2e.jpg: 1 duplicate labels removed\n",
            "\u001b[34m\u001b[1mtrain: \u001b[0mWARNING ⚠️ /content/Human/train/images/282555-104947000affc06bc_jpg.rf.69a101c6431ca937aaae20ecabdc1411.jpg: 1 duplicate labels removed\n",
            "\u001b[34m\u001b[1mtrain: \u001b[0mWARNING ⚠️ /content/Human/train/images/282555-104947000affc06bc_jpg.rf.9e3e39334d71ffec5194d7c043fa9823.jpg: 1 duplicate labels removed\n",
            "\u001b[34m\u001b[1mtrain: \u001b[0mWARNING ⚠️ /content/Human/train/images/282555-104947000affc06bc_jpg.rf.d911df8e4f889f9445b942deafb02940.jpg: 1 duplicate labels removed\n",
            "\u001b[34m\u001b[1mtrain: \u001b[0mWARNING ⚠️ /content/Human/train/images/282555-1180f000034db8e53_jpg.rf.16a979047aa44d862b85a89d11257abe.jpg: 1 duplicate labels removed\n",
            "\u001b[34m\u001b[1mtrain: \u001b[0mWARNING ⚠️ /content/Human/train/images/282555-1180f000034db8e53_jpg.rf.6e2681cf2f2383e33310ce6b8f23d519.jpg: 1 duplicate labels removed\n",
            "\u001b[34m\u001b[1mtrain: \u001b[0mWARNING ⚠️ /content/Human/train/images/282555-11c3f20003d6ebf8c_jpg.rf.14235ffa8b4f6a8b124798ff33b138d3.jpg: 1 duplicate labels removed\n",
            "\u001b[34m\u001b[1mtrain: \u001b[0mWARNING ⚠️ /content/Human/train/images/282555-11c3f20003d6ebf8c_jpg.rf.bb8b8a309af691cefc867042c0f30efb.jpg: 1 duplicate labels removed\n",
            "\u001b[34m\u001b[1mtrain: \u001b[0mWARNING ⚠️ /content/Human/train/images/282555-11c3f20003d6ebf8c_jpg.rf.c6a1e6135abc35b6b9496a668790a98c.jpg: 1 duplicate labels removed\n",
            "\u001b[34m\u001b[1mtrain: \u001b[0mWARNING ⚠️ /content/Human/train/images/282555-16000001503e5d6_jpg.rf.627b7cc3519c6f9346e51b47f791e4a8.jpg: 1 duplicate labels removed\n",
            "\u001b[34m\u001b[1mtrain: \u001b[0mWARNING ⚠️ /content/Human/train/images/282555-16000001503e5d6_jpg.rf.772eb3f052ec205a3f2612d43ba296cc.jpg: 1 duplicate labels removed\n",
            "\u001b[34m\u001b[1mtrain: \u001b[0mWARNING ⚠️ /content/Human/train/images/282555-1cd70004c559c53_jpg.rf.503bf66c5bb080aa5c65021004797dc1.jpg: 1 duplicate labels removed\n",
            "\u001b[34m\u001b[1mtrain: \u001b[0mWARNING ⚠️ /content/Human/train/images/282555-1cd70004c559c53_jpg.rf.ab0df578e03e5c23345651cc33ef8a59.jpg: 1 duplicate labels removed\n",
            "\u001b[34m\u001b[1mtrain: \u001b[0mWARNING ⚠️ /content/Human/train/images/282555-1cd70004c559c53_jpg.rf.ae932749538d9587cce5ef9d0cc0fe1f.jpg: 1 duplicate labels removed\n",
            "\u001b[34m\u001b[1mtrain: \u001b[0mWARNING ⚠️ /content/Human/train/images/282555-22c900091ff4c14_jpg.rf.35ab92f455c9119878df7e229aed46b3.jpg: 1 duplicate labels removed\n",
            "\u001b[34m\u001b[1mtrain: \u001b[0mWARNING ⚠️ /content/Human/train/images/282555-22c900091ff4c14_jpg.rf.f04a2761926bc8025af42c3b302c1e72.jpg: 1 duplicate labels removed\n",
            "\u001b[34m\u001b[1mtrain: \u001b[0mWARNING ⚠️ /content/Human/train/images/282555-36c97000b6875717_jpg.rf.2f827dcd2107662c93d5b99590484fb9.jpg: 1 duplicate labels removed\n",
            "\u001b[34m\u001b[1mtrain: \u001b[0mWARNING ⚠️ /content/Human/train/images/282555-36c97000b6875717_jpg.rf.33ae72802c5aa4e71078d29898e1f647.jpg: 1 duplicate labels removed\n",
            "\u001b[34m\u001b[1mtrain: \u001b[0mWARNING ⚠️ /content/Human/train/images/282555-4f5120007fa814f8_jpg.rf.0a55eead9ab91f4110d0e0ec768436f2.jpg: 1 duplicate labels removed\n",
            "\u001b[34m\u001b[1mtrain: \u001b[0mWARNING ⚠️ /content/Human/train/images/282555-4f5120007fa814f8_jpg.rf.3d6b8d21e3e0f6d2d4ed48f6ed3bb722.jpg: 1 duplicate labels removed\n",
            "\u001b[34m\u001b[1mtrain: \u001b[0mWARNING ⚠️ /content/Human/train/images/282555-4f5120007fa814f8_jpg.rf.cf7ab28a489e6f038f20aeddeb440cd2.jpg: 1 duplicate labels removed\n",
            "\u001b[34m\u001b[1mtrain: \u001b[0mWARNING ⚠️ /content/Human/train/images/282555-551f00004573381c_jpg.rf.19a5f51db91375a70b28f7fe70e6c71b.jpg: 1 duplicate labels removed\n",
            "\u001b[34m\u001b[1mtrain: \u001b[0mWARNING ⚠️ /content/Human/train/images/282555-551f00004573381c_jpg.rf.6407b9644646b1c3485a5a5ee027979f.jpg: 1 duplicate labels removed\n",
            "\u001b[34m\u001b[1mtrain: \u001b[0mWARNING ⚠️ /content/Human/train/images/282555-551f00004573381c_jpg.rf.efe04c85087497794541d83a63341cba.jpg: 1 duplicate labels removed\n",
            "\u001b[34m\u001b[1mtrain: \u001b[0mWARNING ⚠️ /content/Human/train/images/282555-660fd000bc104d62_jpg.rf.1a7a7de152fcf61f33d77cd31f90a18f.jpg: 1 duplicate labels removed\n",
            "\u001b[34m\u001b[1mtrain: \u001b[0mWARNING ⚠️ /content/Human/train/images/282555-660fd000bc104d62_jpg.rf.544835a936937812100164153039b3aa.jpg: 1 duplicate labels removed\n",
            "\u001b[34m\u001b[1mtrain: \u001b[0mWARNING ⚠️ /content/Human/train/images/282555-69326000a31c15e6_jpg.rf.190cfcc0a915ec94cbc92309a79485e1.jpg: 1 duplicate labels removed\n",
            "\u001b[34m\u001b[1mtrain: \u001b[0mWARNING ⚠️ /content/Human/train/images/282555-69326000a31c15e6_jpg.rf.b04e525bcd6f046275fbfe1ac42308ad.jpg: 1 duplicate labels removed\n",
            "\u001b[34m\u001b[1mtrain: \u001b[0mWARNING ⚠️ /content/Human/train/images/282555-69326000a31c15e6_jpg.rf.f91d7c7d2e24a51435d902fa50d52370.jpg: 1 duplicate labels removed\n",
            "\u001b[34m\u001b[1mtrain: \u001b[0mWARNING ⚠️ /content/Human/train/images/282555-86a6700074f10ef6_jpg.rf.12fe6a787247a3686e7bf236f1145656.jpg: 1 duplicate labels removed\n",
            "\u001b[34m\u001b[1mtrain: \u001b[0mWARNING ⚠️ /content/Human/train/images/282555-86a6700074f10ef6_jpg.rf.fdb0603780e4aba3212c099d57de4d4b.jpg: 2 duplicate labels removed\n",
            "\u001b[34m\u001b[1mtrain: \u001b[0mWARNING ⚠️ /content/Human/train/images/282555-9a5b2000079221ca_jpg.rf.1ff0a84a1d84c0ca04f3d8ecf59e4a3c.jpg: 1 duplicate labels removed\n",
            "\u001b[34m\u001b[1mtrain: \u001b[0mWARNING ⚠️ /content/Human/train/images/282555-9a5b2000079221ca_jpg.rf.2961be65938c5cba017f6280924068ae.jpg: 1 duplicate labels removed\n",
            "\u001b[34m\u001b[1mtrain: \u001b[0mWARNING ⚠️ /content/Human/train/images/282555-a350000094bdbc61_jpg.rf.04193e06b3e3d69369bba9aeeaca698a.jpg: 3 duplicate labels removed\n",
            "\u001b[34m\u001b[1mtrain: \u001b[0mWARNING ⚠️ /content/Human/train/images/282555-a350000094bdbc61_jpg.rf.209401d761e3e229175acfbee88fdaf4.jpg: 2 duplicate labels removed\n",
            "\u001b[34m\u001b[1mtrain: \u001b[0mWARNING ⚠️ /content/Human/train/images/282555-a350000094bdbc61_jpg.rf.9fe1c24f3c8d604933b0243c4fb1bc30.jpg: 2 duplicate labels removed\n",
            "\u001b[34m\u001b[1mtrain: \u001b[0mWARNING ⚠️ /content/Human/train/images/282555-a4b570008eafd861_jpg.rf.2b1380752e1835386c48e46d3496a1d5.jpg: 1 duplicate labels removed\n",
            "\u001b[34m\u001b[1mtrain: \u001b[0mWARNING ⚠️ /content/Human/train/images/282555-a4b570008eafd861_jpg.rf.7e36ea4d125ba3ad499a5557034e4ac0.jpg: 1 duplicate labels removed\n",
            "\u001b[34m\u001b[1mtrain: \u001b[0mWARNING ⚠️ /content/Human/train/images/282555-a61f70002472aab2_jpg.rf.0b5133e7ba525fa690746be6a4272040.jpg: 1 duplicate labels removed\n",
            "\u001b[34m\u001b[1mtrain: \u001b[0mWARNING ⚠️ /content/Human/train/images/282555-a61f70002472aab2_jpg.rf.c0885f1a969cc6338d42957fef880df0.jpg: 1 duplicate labels removed\n",
            "\u001b[34m\u001b[1mtrain: \u001b[0mWARNING ⚠️ /content/Human/train/images/282555-a62190001fae3786_jpg.rf.b07b43d6e4e66ac20340b1962501a9f6.jpg: 1 duplicate labels removed\n",
            "\u001b[34m\u001b[1mtrain: \u001b[0mWARNING ⚠️ /content/Human/train/images/282555-a62190001fae3786_jpg.rf.da3dfa9a9a8946f3320e0cad3d07fad1.jpg: 1 duplicate labels removed\n",
            "\u001b[34m\u001b[1mtrain: \u001b[0mWARNING ⚠️ /content/Human/train/images/282555-a62190001fae3786_jpg.rf.e907e154ec1577cfff0f1759e852f340.jpg: 1 duplicate labels removed\n",
            "\u001b[34m\u001b[1mtrain: \u001b[0mWARNING ⚠️ /content/Human/train/images/282555-a686b000aa8aa9f9_jpg.rf.6ca28d1fac8c75b9eb0446ee17c174f5.jpg: 1 duplicate labels removed\n",
            "\u001b[34m\u001b[1mtrain: \u001b[0mWARNING ⚠️ /content/Human/train/images/282555-a686b000aa8aa9f9_jpg.rf.8278e69b2c5ff97f8332998613ca586c.jpg: 1 duplicate labels removed\n",
            "\u001b[34m\u001b[1mtrain: \u001b[0mWARNING ⚠️ /content/Human/train/images/282555-a686b000aa8aa9f9_jpg.rf.9b56ab312d4c6cd3f25c182cfd9852f8.jpg: 1 duplicate labels removed\n",
            "\u001b[34m\u001b[1mtrain: \u001b[0mWARNING ⚠️ /content/Human/train/images/282555-a7ba20000e7239ce_jpg.rf.53d3a90fe157ec88184edf08b18dcf45.jpg: 1 duplicate labels removed\n",
            "\u001b[34m\u001b[1mtrain: \u001b[0mWARNING ⚠️ /content/Human/train/images/282555-a7ba20000e7239ce_jpg.rf.6626a02ce00c5df553142682f03f98ec.jpg: 1 duplicate labels removed\n",
            "\u001b[34m\u001b[1mtrain: \u001b[0mWARNING ⚠️ /content/Human/train/images/282555-a7ba20000e7239ce_jpg.rf.86a88033ce6725f2f69ee59db810c0ec.jpg: 1 duplicate labels removed\n",
            "\u001b[34m\u001b[1mtrain: \u001b[0mWARNING ⚠️ /content/Human/train/images/282555-a812c0005e47a54d_jpg.rf.1ccc9772b48ac2760dbd978b83f5c8b0.jpg: 2 duplicate labels removed\n",
            "\u001b[34m\u001b[1mtrain: \u001b[0mWARNING ⚠️ /content/Human/train/images/282555-a812c0005e47a54d_jpg.rf.8c35241498798ccdfc12a45128ed9e4e.jpg: 2 duplicate labels removed\n",
            "\u001b[34m\u001b[1mtrain: \u001b[0mWARNING ⚠️ /content/Human/train/images/282555-a812c0005e47a54d_jpg.rf.a75c05e2e1a2bd765f4b9e2841f9e636.jpg: 2 duplicate labels removed\n",
            "\u001b[34m\u001b[1mtrain: \u001b[0mWARNING ⚠️ /content/Human/train/images/282555-a83270005249a10f_jpg.rf.69178d25840e78529a0e052a91f8d1f8.jpg: 1 duplicate labels removed\n",
            "\u001b[34m\u001b[1mtrain: \u001b[0mWARNING ⚠️ /content/Human/train/images/282555-a83270005249a10f_jpg.rf.6f53e87aafb17cbcee8e853b37657bf2.jpg: 1 duplicate labels removed\n",
            "\u001b[34m\u001b[1mtrain: \u001b[0mWARNING ⚠️ /content/Human/train/images/282555-aab1d00049294ecf_jpg.rf.81f00a6a8ce2690191739bfe57027437.jpg: 1 duplicate labels removed\n",
            "\u001b[34m\u001b[1mtrain: \u001b[0mWARNING ⚠️ /content/Human/train/images/282555-aad6d000cd3d7d83_jpg.rf.62e2967747acc417565dd9f283e9071f.jpg: 1 duplicate labels removed\n",
            "\u001b[34m\u001b[1mtrain: \u001b[0mWARNING ⚠️ /content/Human/train/images/282555-aad6d000cd3d7d83_jpg.rf.d9c7ecb1552160d4746d0cdcb1c2abae.jpg: 1 duplicate labels removed\n",
            "\u001b[34m\u001b[1mtrain: \u001b[0mWARNING ⚠️ /content/Human/train/images/282555-ad260000adec816e_jpg.rf.3d9fc07e6c38a773d61792d86f08de88.jpg: 1 duplicate labels removed\n",
            "\u001b[34m\u001b[1mtrain: \u001b[0mWARNING ⚠️ /content/Human/train/images/282555-ad260000adec816e_jpg.rf.6b011fd01c60c2d5a6ade99afb603109.jpg: 1 duplicate labels removed\n",
            "\u001b[34m\u001b[1mtrain: \u001b[0mWARNING ⚠️ /content/Human/train/images/282555-bda3f00014618e23_jpg.rf.2ef7009619f3527b95650816b22c2931.jpg: 1 duplicate labels removed\n",
            "\u001b[34m\u001b[1mtrain: \u001b[0mWARNING ⚠️ /content/Human/train/images/282555-c99410000b5b1da1_jpg.rf.61da9e5585b462b1fc1670dc3bab2d18.jpg: 1 duplicate labels removed\n",
            "\u001b[34m\u001b[1mtrain: \u001b[0mWARNING ⚠️ /content/Human/train/images/282555-c99410000b5b1da1_jpg.rf.6e6329b1e191811c30e5614ae6991934.jpg: 1 duplicate labels removed\n",
            "\u001b[34m\u001b[1mtrain: \u001b[0mWARNING ⚠️ /content/Human/train/images/282555-c99410000b5b1da1_jpg.rf.b03bd4830145ba3d9aad1406f643c68d.jpg: 1 duplicate labels removed\n",
            "\u001b[34m\u001b[1mtrain: \u001b[0mWARNING ⚠️ /content/Human/train/images/282555-d0bb7000f45b3cab_jpg.rf.e1ec15b0ceb1b95fe719372e306b6d00.jpg: 1 duplicate labels removed\n",
            "\u001b[34m\u001b[1mtrain: \u001b[0mWARNING ⚠️ /content/Human/train/images/282555-d10aa000f0382830_jpg.rf.11b5c64fd392cf1487f712d2db59883f.jpg: 1 duplicate labels removed\n",
            "\u001b[34m\u001b[1mtrain: \u001b[0mWARNING ⚠️ /content/Human/train/images/282555-d10aa000f0382830_jpg.rf.3efa50b0577eb476183721c0aa28b639.jpg: 1 duplicate labels removed\n",
            "\u001b[34m\u001b[1mtrain: \u001b[0mWARNING ⚠️ /content/Human/train/images/282555-e2e15000a97c1b22_jpg.rf.0a7c2de5b4600c383f04360e12a28c0e.jpg: 1 duplicate labels removed\n",
            "\u001b[34m\u001b[1mtrain: \u001b[0mWARNING ⚠️ /content/Human/train/images/282555-e2e15000a97c1b22_jpg.rf.90ebc72484b54ebf049ce4ac07a9fab3.jpg: 1 duplicate labels removed\n",
            "\u001b[34m\u001b[1mtrain: \u001b[0mWARNING ⚠️ /content/Human/train/images/282555-ec9df00080ea400b_jpg.rf.9a70072e4f8b52e9acad45ff172ca0a2.jpg: 2 duplicate labels removed\n",
            "\u001b[34m\u001b[1mtrain: \u001b[0mWARNING ⚠️ /content/Human/train/images/282555-ec9df00080ea400b_jpg.rf.bb8ae0cccda500be6b00be1bde1f39ef.jpg: 2 duplicate labels removed\n",
            "\u001b[34m\u001b[1mtrain: \u001b[0mWARNING ⚠️ /content/Human/train/images/282555-ec9df00080ea400b_jpg.rf.ce070fb61b826382fadb38c0900c472a.jpg: 2 duplicate labels removed\n",
            "\u001b[34m\u001b[1mtrain: \u001b[0mWARNING ⚠️ /content/Human/train/images/282555-ecdb20004e1ac8d0_jpg.rf.31ae5ef9bdca644a2181de35925c1f66.jpg: 1 duplicate labels removed\n",
            "\u001b[34m\u001b[1mtrain: \u001b[0mWARNING ⚠️ /content/Human/train/images/282555-ecdb20004e1ac8d0_jpg.rf.5c991402e9bcde27b783c74acb694bb5.jpg: 2 duplicate labels removed\n",
            "\u001b[34m\u001b[1mtrain: \u001b[0mWARNING ⚠️ /content/Human/train/images/282555-ecdb20004e1ac8d0_jpg.rf.7c07a864881f42ab8a0bb113b5713d32.jpg: 2 duplicate labels removed\n",
            "\u001b[34m\u001b[1mtrain: \u001b[0mWARNING ⚠️ /content/Human/train/images/282555-f359600065bc7551_jpg.rf.0d73fd7b01873b06d0fef88da629d2cf.jpg: 1 duplicate labels removed\n",
            "\u001b[34m\u001b[1mtrain: \u001b[0mWARNING ⚠️ /content/Human/train/images/282555-f359600065bc7551_jpg.rf.a0b3edf5e64370f938b4fdf83afb25c9.jpg: 1 duplicate labels removed\n",
            "\u001b[34m\u001b[1mtrain: \u001b[0mWARNING ⚠️ /content/Human/train/images/282555-ff8230007a73e071_jpg.rf.44ff4f77a3876cdd9db0513649e8bca5.jpg: 1 duplicate labels removed\n",
            "\u001b[34m\u001b[1mtrain: \u001b[0mWARNING ⚠️ /content/Human/train/images/282555-ff8230007a73e071_jpg.rf.856f5e4f7735ab2b48abc26bf13d6d75.jpg: 1 duplicate labels removed\n",
            "\u001b[34m\u001b[1mtrain: \u001b[0mWARNING ⚠️ /content/Human/train/images/282555-ff8230007a73e071_jpg.rf.90a732a16d07ac39baf781c877ba2af7.jpg: 1 duplicate labels removed\n",
            "\u001b[34m\u001b[1mtrain: \u001b[0mWARNING ⚠️ /content/Human/train/images/283554-170750001ccfa47d_jpg.rf.7f7a2298275a503a7af18a3cf8f8079f.jpg: 1 duplicate labels removed\n",
            "\u001b[34m\u001b[1mtrain: \u001b[0mWARNING ⚠️ /content/Human/train/images/283554-170750001ccfa47d_jpg.rf.d8640b7ebeddd4a75e7ebf6286df12e4.jpg: 1 duplicate labels removed\n",
            "\u001b[34m\u001b[1mtrain: \u001b[0mWARNING ⚠️ /content/Human/train/images/283554-170750001ccfa47d_jpg.rf.ecc41b151e218965662c0865732556da.jpg: 1 duplicate labels removed\n",
            "\u001b[34m\u001b[1mtrain: \u001b[0mWARNING ⚠️ /content/Human/train/images/283554-1816b000f78b48b4_jpg.rf.018f12e6226138e78b45386b2ebff040.jpg: 1 duplicate labels removed\n",
            "\u001b[34m\u001b[1mtrain: \u001b[0mWARNING ⚠️ /content/Human/train/images/283554-1816b000f78b48b4_jpg.rf.44a67bdb6e0b5ec242f7fd74338327b5.jpg: 1 duplicate labels removed\n",
            "\u001b[34m\u001b[1mtrain: \u001b[0mWARNING ⚠️ /content/Human/train/images/283554-1816b000f78b48b4_jpg.rf.db0a8ef6e5971d4b69beecbbe4e3123b.jpg: 1 duplicate labels removed\n",
            "\u001b[34m\u001b[1mtrain: \u001b[0mWARNING ⚠️ /content/Human/train/images/283554-1f57d000fb1e94a0_jpg.rf.3f51b771ff5ae2b6da18b35867bcb703.jpg: 1 duplicate labels removed\n",
            "\u001b[34m\u001b[1mtrain: \u001b[0mWARNING ⚠️ /content/Human/train/images/283554-1f57d000fb1e94a0_jpg.rf.5ace0888eef860710f45089372209180.jpg: 1 duplicate labels removed\n",
            "\u001b[34m\u001b[1mtrain: \u001b[0mWARNING ⚠️ /content/Human/train/images/283554-1f57d000fb1e94a0_jpg.rf.aee79a3f599c74198089aaef7dd9bb5b.jpg: 1 duplicate labels removed\n",
            "\u001b[34m\u001b[1mtrain: \u001b[0mWARNING ⚠️ /content/Human/train/images/283554-5e4b0006e215e12_jpg.rf.2e532995bd5605fdd843336744bb5e59.jpg: 1 duplicate labels removed\n",
            "\u001b[34m\u001b[1mtrain: \u001b[0mWARNING ⚠️ /content/Human/train/images/283554-5e4b0006e215e12_jpg.rf.8d8437d5a1061ef34cc7ee985b7567c4.jpg: 1 duplicate labels removed\n",
            "\u001b[34m\u001b[1mtrain: \u001b[0mWARNING ⚠️ /content/Human/train/images/283554-5e4b0006e215e12_jpg.rf.c4cbc0868531c01039e4c63edb8a4e1f.jpg: 1 duplicate labels removed\n",
            "\u001b[34m\u001b[1mtrain: \u001b[0mWARNING ⚠️ /content/Human/train/images/283554-8fc4000159abcff_jpg.rf.2c2c4c436db4f3dbc94f5c582a325a97.jpg: 1 duplicate labels removed\n",
            "\u001b[34m\u001b[1mtrain: \u001b[0mWARNING ⚠️ /content/Human/train/images/283554-8fc4000159abcff_jpg.rf.461c6fe2007857062c48dfe829b40430.jpg: 1 duplicate labels removed\n",
            "\u001b[34m\u001b[1mtrain: \u001b[0mWARNING ⚠️ /content/Human/train/images/283554-8fc4000159abcff_jpg.rf.54b161d62444011f48814e0c3b2084af.jpg: 1 duplicate labels removed\n",
            "\u001b[34m\u001b[1mtrain: \u001b[0mWARNING ⚠️ /content/Human/train/images/283647-100b00003713f75b_jpg.rf.12e07b0ffb50a6e47767df21bd9a5e4c.jpg: 1 duplicate labels removed\n",
            "\u001b[34m\u001b[1mtrain: \u001b[0mWARNING ⚠️ /content/Human/train/images/283647-100b00003713f75b_jpg.rf.1363096d05d7e3a26c2e77fb8dc8ce3a.jpg: 1 duplicate labels removed\n",
            "\u001b[34m\u001b[1mtrain: \u001b[0mWARNING ⚠️ /content/Human/train/images/283647-100b00003713f75b_jpg.rf.5042d5c6ce8c8d48571428b9bb263894.jpg: 1 duplicate labels removed\n",
            "\u001b[34m\u001b[1mtrain: \u001b[0mWARNING ⚠️ /content/Human/train/images/283647-1308a000a885b904_jpg.rf.1e0bee6d5a8014f0cc17e8cc27101e2f.jpg: 1 duplicate labels removed\n",
            "\u001b[34m\u001b[1mtrain: \u001b[0mWARNING ⚠️ /content/Human/train/images/283647-1308a000a885b904_jpg.rf.936f5e4ad3a79b1c6747210f0073f25b.jpg: 1 duplicate labels removed\n",
            "\u001b[34m\u001b[1mtrain: \u001b[0mWARNING ⚠️ /content/Human/train/images/283647-1308a000a885b904_jpg.rf.9f63de6dcc486e0f50ff2b4f396f5031.jpg: 1 duplicate labels removed\n",
            "\u001b[34m\u001b[1mtrain: \u001b[0mWARNING ⚠️ /content/Human/train/images/283647-18455000fe1a187e_jpg.rf.2624aee73689a502e72c9113b0af5c4d.jpg: 1 duplicate labels removed\n",
            "\u001b[34m\u001b[1mtrain: \u001b[0mWARNING ⚠️ /content/Human/train/images/283647-18455000fe1a187e_jpg.rf.5df1298d61040d871239562adee2155c.jpg: 1 duplicate labels removed\n",
            "\u001b[34m\u001b[1mtrain: \u001b[0mWARNING ⚠️ /content/Human/train/images/283647-4fb6000411cc3a9_jpg.rf.1b3a496d1db822a52fcfd9d2b3d5494d.jpg: 1 duplicate labels removed\n",
            "\u001b[34m\u001b[1mtrain: \u001b[0mWARNING ⚠️ /content/Human/train/images/283647-4fb6000411cc3a9_jpg.rf.32a6cd5a3b44f9f9b3733ad7c2f46812.jpg: 1 duplicate labels removed\n",
            "\u001b[34m\u001b[1mtrain: \u001b[0mWARNING ⚠️ /content/Human/train/images/283647-4fb6000411cc3a9_jpg.rf.70d7f01dc0c8a960135daf33350da7db.jpg: 1 duplicate labels removed\n",
            "\u001b[34m\u001b[1mtrain: \u001b[0mWARNING ⚠️ /content/Human/train/images/283647-85f500053c0e97a_jpg.rf.c2dc956b373565f314a98b8f4c1fc508.jpg: 1 duplicate labels removed\n",
            "\u001b[34m\u001b[1mtrain: \u001b[0mWARNING ⚠️ /content/Human/train/images/283647-85f500053c0e97a_jpg.rf.d2e9c694541ebe162a560389d53754e3.jpg: 1 duplicate labels removed\n",
            "\u001b[34m\u001b[1mtrain: \u001b[0mWARNING ⚠️ /content/Human/train/images/283647-9c57000bbf32069_jpg.rf.bef9cac2bacd8be1d3a4ebec467c0628.jpg: 1 duplicate labels removed\n",
            "\u001b[34m\u001b[1mtrain: \u001b[0mWARNING ⚠️ /content/Human/train/images/283647-9c57000bbf32069_jpg.rf.c9844bad94fc65c86a5ddb91735b692d.jpg: 1 duplicate labels removed\n",
            "\u001b[34m\u001b[1mtrain: \u001b[0mWARNING ⚠️ /content/Human/train/images/283647-9c57000bbf32069_jpg.rf.e62441fbc0513cc1c13a405dd74f4cc1.jpg: 1 duplicate labels removed\n",
            "\u001b[34m\u001b[1mtrain: \u001b[0mWARNING ⚠️ /content/Human/train/images/283991-1e4fe00084b06e4d_jpg.rf.967d8ea0e787b6b3ebcb6f8235bac560.jpg: 1 duplicate labels removed\n",
            "\u001b[34m\u001b[1mtrain: \u001b[0mWARNING ⚠️ /content/Human/train/images/283991-1e4fe00084b06e4d_jpg.rf.a010e5997e7b6370869fedcd4fd0882b.jpg: 1 duplicate labels removed\n",
            "\u001b[34m\u001b[1mtrain: \u001b[0mWARNING ⚠️ /content/Human/train/images/283991-1e4fe00084b06e4d_jpg.rf.b53079330ea50dfddca961b987009d1f.jpg: 1 duplicate labels removed\n",
            "\u001b[34m\u001b[1mtrain: \u001b[0mWARNING ⚠️ /content/Human/train/images/283991-e726000c82c3fbe_jpg.rf.0bd0add74c4df304cb034aaffa1ed05a.jpg: 1 duplicate labels removed\n",
            "\u001b[34m\u001b[1mtrain: \u001b[0mWARNING ⚠️ /content/Human/train/images/283991-e726000c82c3fbe_jpg.rf.8078507541df62a6fcab6b17d8c936fc.jpg: 1 duplicate labels removed\n",
            "\u001b[34m\u001b[1mtrain: \u001b[0mWARNING ⚠️ /content/Human/train/images/283991-e726000c82c3fbe_jpg.rf.dd4698b1635916754b9704263479588d.jpg: 1 duplicate labels removed\n",
            "\u001b[34m\u001b[1mtrain: \u001b[0mWARNING ⚠️ /content/Human/train/images/283992-11120000ae1f7607_jpg.rf.0d9ceb4266969e36113719569e49bde5.jpg: 1 duplicate labels removed\n",
            "\u001b[34m\u001b[1mtrain: \u001b[0mWARNING ⚠️ /content/Human/train/images/283992-11120000ae1f7607_jpg.rf.494063a90abd8b1617a2ae14237a7592.jpg: 1 duplicate labels removed\n",
            "\u001b[34m\u001b[1mtrain: \u001b[0mWARNING ⚠️ /content/Human/train/images/283992-11120000ae1f7607_jpg.rf.88017fcd4d08deaeebc82840bcf6d60f.jpg: 1 duplicate labels removed\n",
            "\u001b[34m\u001b[1mtrain: \u001b[0mWARNING ⚠️ /content/Human/train/images/283992-8b5900095a478ae_jpg.rf.629ca7aca381ff9d27d5f8096210a8d5.jpg: 1 duplicate labels removed\n",
            "\u001b[34m\u001b[1mtrain: \u001b[0mWARNING ⚠️ /content/Human/train/images/283992-8b5900095a478ae_jpg.rf.692f73fa657ac1005a41de5e57d58518.jpg: 1 duplicate labels removed\n",
            "\u001b[34m\u001b[1mtrain: \u001b[0mWARNING ⚠️ /content/Human/train/images/283992-8b5900095a478ae_jpg.rf.c932af4cb3d8f3f181a81433de227ea2.jpg: 1 duplicate labels removed\n",
            "\u001b[34m\u001b[1mtrain: \u001b[0mWARNING ⚠️ /content/Human/train/images/283992-9b920006f25baec_jpg.rf.59c24b91f73e6ee60262c3cc558ffdd6.jpg: 1 duplicate labels removed\n",
            "\u001b[34m\u001b[1mtrain: \u001b[0mWARNING ⚠️ /content/Human/train/images/283992-9b920006f25baec_jpg.rf.5da0c832b10263717947222c04c83354.jpg: 1 duplicate labels removed\n",
            "\u001b[34m\u001b[1mtrain: \u001b[0mWARNING ⚠️ /content/Human/train/images/283992-c718000f1c8dc4f_jpg.rf.2ba78cb98b0850e795a5dde09c9262fd.jpg: 1 duplicate labels removed\n",
            "\u001b[34m\u001b[1mtrain: \u001b[0mWARNING ⚠️ /content/Human/train/images/283992-c718000f1c8dc4f_jpg.rf.49abbcbb0daf3b1277c728c6cfe6dcfe.jpg: 1 duplicate labels removed\n",
            "\u001b[34m\u001b[1mtrain: \u001b[0mWARNING ⚠️ /content/Human/train/images/283992-c718000f1c8dc4f_jpg.rf.b50c805bb619d55313506f8e1240db75.jpg: 1 duplicate labels removed\n",
            "\u001b[34m\u001b[1mtrain: \u001b[0mWARNING ⚠️ /content/Human/train/images/283992-eebb0006e070e1e_jpg.rf.1d212799a0b117e642e335a29df6da28.jpg: 1 duplicate labels removed\n",
            "\u001b[34m\u001b[1mtrain: \u001b[0mWARNING ⚠️ /content/Human/train/images/283992-eebb0006e070e1e_jpg.rf.5af5422f8bb7e6de8103000894289c58.jpg: 1 duplicate labels removed\n",
            "\u001b[34m\u001b[1mtrain: \u001b[0mWARNING ⚠️ /content/Human/train/images/283992-eebb0006e070e1e_jpg.rf.cd29c4d0cb597edfdc332ea164c94b03.jpg: 1 duplicate labels removed\n",
            "\u001b[34m\u001b[1mtrain: \u001b[0mWARNING ⚠️ /content/Human/train/images/284193-1955e00058dcd412_jpg.rf.5d7d24b2d72d16cbac295547b7163a68.jpg: 2 duplicate labels removed\n",
            "\u001b[34m\u001b[1mtrain: \u001b[0mWARNING ⚠️ /content/Human/train/images/284193-1955e00058dcd412_jpg.rf.5da8dbf1dd6a5f62ce0b2c9fa6c68947.jpg: 2 duplicate labels removed\n",
            "\u001b[34m\u001b[1mtrain: \u001b[0mWARNING ⚠️ /content/Human/train/images/284193-1955e00058dcd412_jpg.rf.a472c3e555b0befbd1e9de449fb9087d.jpg: 1 duplicate labels removed\n",
            "\u001b[34m\u001b[1mtrain: \u001b[0mWARNING ⚠️ /content/Human/train/images/284193-1ae73000458b8697_jpg.rf.3088f5deea442f7a5bd55593a25ead43.jpg: 1 duplicate labels removed\n",
            "\u001b[34m\u001b[1mtrain: \u001b[0mWARNING ⚠️ /content/Human/train/images/284193-1ae73000458b8697_jpg.rf.bcb8e35d0dca107c8d02b468cb890096.jpg: 1 duplicate labels removed\n",
            "\u001b[34m\u001b[1mtrain: \u001b[0mWARNING ⚠️ /content/Human/train/images/284193-1ae73000458b8697_jpg.rf.e1bffd520bcc631d89c95a458bdf57d1.jpg: 1 duplicate labels removed\n",
            "\u001b[34m\u001b[1mtrain: \u001b[0mWARNING ⚠️ /content/Human/train/images/284193-1dbbe000ade1c99a_jpg.rf.676b3ff0b008f02cd712ef7b91a03428.jpg: 1 duplicate labels removed\n",
            "\u001b[34m\u001b[1mtrain: \u001b[0mWARNING ⚠️ /content/Human/train/images/284193-1dbbe000ade1c99a_jpg.rf.cd12d1360434023b9b2dda59717db55a.jpg: 1 duplicate labels removed\n",
            "\u001b[34m\u001b[1mtrain: \u001b[0mWARNING ⚠️ /content/Human/train/images/284193-1dbbe000ade1c99a_jpg.rf.d519a284cfbc7021ae83c2baee81a979.jpg: 1 duplicate labels removed\n",
            "\u001b[34m\u001b[1mtrain: \u001b[0mWARNING ⚠️ /content/Human/train/images/284193-2a36a00093ccc75c_jpg.rf.c76c4aeec6ae27be3f73fed0bf1e4592.jpg: 1 duplicate labels removed\n",
            "\u001b[34m\u001b[1mtrain: \u001b[0mWARNING ⚠️ /content/Human/train/images/284193-2a36a00093ccc75c_jpg.rf.f164845cbf8931f8cc5e9d68734b776b.jpg: 1 duplicate labels removed\n",
            "\u001b[34m\u001b[1mtrain: \u001b[0mWARNING ⚠️ /content/Human/train/images/284193-452800031fcf41b_jpg.rf.64237cd5fe72e255154ab5aa5bbf21df.jpg: 1 duplicate labels removed\n",
            "\u001b[34m\u001b[1mtrain: \u001b[0mWARNING ⚠️ /content/Human/train/images/284193-452800031fcf41b_jpg.rf.cd7cfd8b603330abe0c335b58d1121da.jpg: 1 duplicate labels removed\n",
            "\u001b[34m\u001b[1mtrain: \u001b[0mWARNING ⚠️ /content/Human/train/images/284193-452800031fcf41b_jpg.rf.f519a7fd6ca4985deb64ee66aec7fc66.jpg: 1 duplicate labels removed\n",
            "\u001b[34m\u001b[1mtrain: \u001b[0mWARNING ⚠️ /content/Human/train/images/284193-880000198e8148_jpg.rf.720a398de3a57fc223a53fb7c9f93f28.jpg: 1 duplicate labels removed\n",
            "\u001b[34m\u001b[1mtrain: \u001b[0mWARNING ⚠️ /content/Human/train/images/284193-880000198e8148_jpg.rf.b28bf5077e187432a6ef04999dfebb7d.jpg: 1 duplicate labels removed\n",
            "\u001b[34m\u001b[1mtrain: \u001b[0mWARNING ⚠️ /content/Human/train/images/284193-880000198e8148_jpg.rf.ea869f7057ed46f0b241982254ce4ba9.jpg: 1 duplicate labels removed\n",
            "\u001b[34m\u001b[1mtrain: \u001b[0mWARNING ⚠️ /content/Human/train/images/284193-97ee0004e3ebb4a_jpg.rf.10b4ce100bfa7d7cdd8beb2c9741fe7e.jpg: 1 duplicate labels removed\n",
            "\u001b[34m\u001b[1mtrain: \u001b[0mWARNING ⚠️ /content/Human/train/images/284193-97ee0004e3ebb4a_jpg.rf.59cde1943ceafda8d1b1f0a3a2e42ca0.jpg: 2 duplicate labels removed\n",
            "\u001b[34m\u001b[1mtrain: \u001b[0mWARNING ⚠️ /content/Human/train/images/284193-97ee0004e3ebb4a_jpg.rf.7181eade7cb5b3b8fc1469f555cab4fa.jpg: 1 duplicate labels removed\n",
            "\u001b[34m\u001b[1mtrain: \u001b[0mWARNING ⚠️ /content/Human/train/images/284193-a17b00013852c31_jpg.rf.0f691f53b2b10a473bc0522b2b9c2862.jpg: 1 duplicate labels removed\n",
            "\u001b[34m\u001b[1mtrain: \u001b[0mWARNING ⚠️ /content/Human/train/images/284193-a17b00013852c31_jpg.rf.99a75a5cc5450571dc29cc39153c7995.jpg: 1 duplicate labels removed\n",
            "\u001b[34m\u001b[1mtrain: \u001b[0mWARNING ⚠️ /content/Human/train/images/284193-a17b00013852c31_jpg.rf.eb8337b64cf19eaf1087f6413a502836.jpg: 1 duplicate labels removed\n",
            "\u001b[34m\u001b[1mtrain: \u001b[0mWARNING ⚠️ /content/Human/train/images/284193-af8f000574340d5_jpg.rf.0e754a648bfdae66fd41e9fea28e026d.jpg: 1 duplicate labels removed\n",
            "\u001b[34m\u001b[1mtrain: \u001b[0mWARNING ⚠️ /content/Human/train/images/284193-af8f000574340d5_jpg.rf.6582c815c7bc109f33de27458aa0d3cc.jpg: 1 duplicate labels removed\n",
            "\u001b[34m\u001b[1mtrain: \u001b[0mWARNING ⚠️ /content/Human/train/images/284193-bd960004543d7b5_jpg.rf.8d3fbab1d03b86781fa72f3b07b6811c.jpg: 1 duplicate labels removed\n",
            "\u001b[34m\u001b[1mtrain: \u001b[0mWARNING ⚠️ /content/Human/train/images/284193-bee0006b794213_jpg.rf.53cda9c179d4613ff056df29f21debd7.jpg: 1 duplicate labels removed\n",
            "\u001b[34m\u001b[1mtrain: \u001b[0mWARNING ⚠️ /content/Human/train/images/284193-bee0006b794213_jpg.rf.5808fd909d8d1963bc2a9cf5afb88f6b.jpg: 1 duplicate labels removed\n",
            "\u001b[34m\u001b[1mtrain: \u001b[0mWARNING ⚠️ /content/Human/train/images/284193-bee0006b794213_jpg.rf.cd2957ccd4ef6485ec48f8cd78ea8519.jpg: 1 duplicate labels removed\n",
            "\u001b[34m\u001b[1mtrain: \u001b[0mWARNING ⚠️ /content/Human/train/images/284193-ddff0005ee8eea1_jpg.rf.5e7c37e194b07327029c3f7f4018e0dc.jpg: 1 duplicate labels removed\n",
            "\u001b[34m\u001b[1mtrain: \u001b[0mWARNING ⚠️ /content/Human/train/images/284193-ddff0005ee8eea1_jpg.rf.64c6405d4bd47673f9d15ee1b4e9e638.jpg: 1 duplicate labels removed\n",
            "\u001b[34m\u001b[1mtrain: \u001b[0mWARNING ⚠️ /content/Human/train/images/284193-ddff0005ee8eea1_jpg.rf.902870a2b6ee093fe137083b43a1e773.jpg: 1 duplicate labels removed\n"
          ]
        },
        {
          "output_type": "stream",
          "name": "stderr",
          "text": [
            "\n"
          ]
        },
        {
          "output_type": "stream",
          "name": "stdout",
          "text": [
            "\u001b[34m\u001b[1malbumentations: \u001b[0mBlur(p=0.01, blur_limit=(3, 7)), MedianBlur(p=0.01, blur_limit=(3, 7)), ToGray(p=0.01), CLAHE(p=0.01, clip_limit=(1, 4.0), tile_grid_size=(8, 8))\n"
          ]
        },
        {
          "output_type": "stream",
          "name": "stderr",
          "text": [
            "os.fork() was called. os.fork() is incompatible with multithreaded code, and JAX is multithreaded, so this will likely lead to a deadlock.\n",
            "\u001b[34m\u001b[1mval: \u001b[0mScanning /content/Human/valid/labels.cache... 3874 images, 0 backgrounds, 0 corrupt: 100%|██████████| 3874/3874 [00:00<?, ?it/s]"
          ]
        },
        {
          "output_type": "stream",
          "name": "stdout",
          "text": [
            "\u001b[34m\u001b[1mval: \u001b[0mWARNING ⚠️ /content/Human/valid/images/273271-29fe7000f8bd106d_jpg.rf.6811fe36d2e2adc863fd481507465b02.jpg: 1 duplicate labels removed\n",
            "\u001b[34m\u001b[1mval: \u001b[0mWARNING ⚠️ /content/Human/valid/images/273271-9ffc000398542a4_jpg.rf.94ee0e5441a6304ac1f6fb114ee0afb2.jpg: 1 duplicate labels removed\n",
            "\u001b[34m\u001b[1mval: \u001b[0mWARNING ⚠️ /content/Human/valid/images/273275-1e6b600033334272_jpg.rf.9614c7f195460c07f2345f9e95edaba0.jpg: 1 duplicate labels removed\n",
            "\u001b[34m\u001b[1mval: \u001b[0mWARNING ⚠️ /content/Human/valid/images/273275-e70b500056d1d878_jpg.rf.9ab7d27a8d6e3cd4bff5b4fae05a2252.jpg: 1 duplicate labels removed\n",
            "\u001b[34m\u001b[1mval: \u001b[0mWARNING ⚠️ /content/Human/valid/images/273278-11ee080006d1bd31c_jpg.rf.f0129da67c262efdb38e1ed87111340f.jpg: 1 duplicate labels removed\n",
            "\u001b[34m\u001b[1mval: \u001b[0mWARNING ⚠️ /content/Human/valid/images/273278-1348b500047a02ea5_jpg.rf.f09695625b4b04d616e6ac9976039d65.jpg: 1 duplicate labels removed\n",
            "\u001b[34m\u001b[1mval: \u001b[0mWARNING ⚠️ /content/Human/valid/images/282555-a996a0007a66e577_jpg.rf.99ff0a0c44bd8d7f839c01be365875d1.jpg: 1 duplicate labels removed\n",
            "\u001b[34m\u001b[1mval: \u001b[0mWARNING ⚠️ /content/Human/valid/images/282555-aab4c000a8afd08a_jpg.rf.27f779901f9c2fafc47c6575018f9359.jpg: 1 duplicate labels removed\n",
            "\u001b[34m\u001b[1mval: \u001b[0mWARNING ⚠️ /content/Human/valid/images/282555-d030d000c312f11b_jpg.rf.b5b35b5d3c9f3b451c56f8294752be31.jpg: 1 duplicate labels removed\n",
            "\u001b[34m\u001b[1mval: \u001b[0mWARNING ⚠️ /content/Human/valid/images/282555-f4de0000e50600a2_jpg.rf.d8e170a2f279ad357dd07da5651976ca.jpg: 1 duplicate labels removed\n",
            "\u001b[34m\u001b[1mval: \u001b[0mWARNING ⚠️ /content/Human/valid/images/283991-14e6300059047b40_jpg.rf.7f2746bd8c1a146a1859c7b567961859.jpg: 1 duplicate labels removed\n",
            "\u001b[34m\u001b[1mval: \u001b[0mWARNING ⚠️ /content/Human/valid/images/283992-12000e7e7d513_jpg.rf.ab292a349ae3d204daa55571ee356300.jpg: 1 duplicate labels removed\n",
            "\u001b[34m\u001b[1mval: \u001b[0mWARNING ⚠️ /content/Human/valid/images/284193-1bae900025f2d372_jpg.rf.64e7c49f323a69759f09ab255f55e6a4.jpg: 1 duplicate labels removed\n"
          ]
        },
        {
          "output_type": "stream",
          "name": "stderr",
          "text": [
            "\n"
          ]
        },
        {
          "output_type": "stream",
          "name": "stdout",
          "text": [
            "Plotting labels to runs/detect/train2/labels.jpg... \n",
            "\u001b[34m\u001b[1moptimizer:\u001b[0m 'optimizer=auto' found, ignoring 'lr0=0.01' and 'momentum=0.937' and determining best 'optimizer', 'lr0' and 'momentum' automatically... \n",
            "\u001b[34m\u001b[1moptimizer:\u001b[0m SGD(lr=0.01, momentum=0.9) with parameter groups 57 weight(decay=0.0), 64 weight(decay=0.0005), 63 bias(decay=0.0)\n",
            "\u001b[34m\u001b[1mTensorBoard: \u001b[0mmodel graph visualization added ✅\n",
            "Image sizes 416 train, 416 val\n",
            "Using 2 dataloader workers\n",
            "Logging results to \u001b[1mruns/detect/train2\u001b[0m\n",
            "Starting training for 100 epochs...\n",
            "\n",
            "      Epoch    GPU_mem   box_loss   cls_loss   dfl_loss  Instances       Size\n"
          ]
        },
        {
          "output_type": "stream",
          "name": "stderr",
          "text": [
            "      1/100      14.2G      2.015      1.689      1.571       1352        416: 100%|██████████| 1269/1269 [09:20<00:00,  2.26it/s]\n",
            "                 Class     Images  Instances      Box(P          R      mAP50  mAP50-95): 100%|██████████| 61/61 [00:43<00:00,  1.41it/s]\n"
          ]
        },
        {
          "output_type": "stream",
          "name": "stdout",
          "text": [
            "                   all       3874     183205      0.696      0.438      0.505      0.253\n",
            "\n",
            "      Epoch    GPU_mem   box_loss   cls_loss   dfl_loss  Instances       Size\n"
          ]
        },
        {
          "output_type": "stream",
          "name": "stderr",
          "text": [
            "      2/100      14.2G      1.893      1.289      1.464       1946        416: 100%|██████████| 1269/1269 [08:45<00:00,  2.41it/s]\n",
            "                 Class     Images  Instances      Box(P          R      mAP50  mAP50-95): 100%|██████████| 61/61 [00:38<00:00,  1.60it/s]\n"
          ]
        },
        {
          "output_type": "stream",
          "name": "stdout",
          "text": [
            "                   all       3874     183205      0.679       0.42       0.47      0.189\n",
            "\n",
            "      Epoch    GPU_mem   box_loss   cls_loss   dfl_loss  Instances       Size\n"
          ]
        },
        {
          "output_type": "stream",
          "name": "stderr",
          "text": [
            "      3/100      11.2G      1.901      1.283      1.467       1079        416: 100%|██████████| 1269/1269 [08:17<00:00,  2.55it/s]\n",
            "                 Class     Images  Instances      Box(P          R      mAP50  mAP50-95): 100%|██████████| 61/61 [00:37<00:00,  1.63it/s]\n"
          ]
        },
        {
          "output_type": "stream",
          "name": "stdout",
          "text": [
            "                   all       3874     183205      0.686       0.43      0.488      0.229\n",
            "\n",
            "      Epoch    GPU_mem   box_loss   cls_loss   dfl_loss  Instances       Size\n"
          ]
        },
        {
          "output_type": "stream",
          "name": "stderr",
          "text": [
            "      4/100      10.3G      1.901      1.281      1.473       1696        416: 100%|██████████| 1269/1269 [08:18<00:00,  2.54it/s]\n",
            "                 Class     Images  Instances      Box(P          R      mAP50  mAP50-95): 100%|██████████| 61/61 [00:37<00:00,  1.64it/s]\n"
          ]
        },
        {
          "output_type": "stream",
          "name": "stdout",
          "text": [
            "                   all       3874     183205      0.709      0.451      0.523      0.266\n",
            "\n",
            "      Epoch    GPU_mem   box_loss   cls_loss   dfl_loss  Instances       Size\n"
          ]
        },
        {
          "output_type": "stream",
          "name": "stderr",
          "text": [
            "      5/100      5.78G      1.865      1.244      1.447       1842        416:  20%|██        | 257/1269 [01:42<10:12,  1.65it/s]"
          ]
        }
      ],
      "source": [
        "# Colab 노트북 초기화 코드\n",
        "import torch\n",
        "print(\"CUDA available:\", torch.cuda.is_available())\n",
        "\n",
        "# 데이터 경로 및 학습 설정\n",
        "data_path = '/content/Human/Human_data.yaml'\n",
        "epochs = 100\n",
        "patience = 30\n",
        "batch_size = 32\n",
        "img_size = 416\n",
        "\n",
        "# 모델 학습\n",
        "model.train(data=data_path, epochs=epochs, patience=patience, batch=batch_size, imgsz=img_size)\n",
        "\n",
        "# 학습 종료 후 GPU 메모리 해제\n",
        "torch.cuda.empty_cache()"
      ]
    },
    {
      "cell_type": "code",
      "execution_count": null,
      "metadata": {
        "id": "yvbmB9V0P-GX"
      },
      "outputs": [],
      "source": [
        "print(type(model.names), len(model.names))\n",
        "\n",
        "print(model.names)"
      ]
    },
    {
      "cell_type": "code",
      "execution_count": null,
      "metadata": {
        "id": "fPF6v5vWQKhz"
      },
      "outputs": [],
      "source": [
        "reuslt = model.predict(source = '/content/Human/test/images', save = True)"
      ]
    }
  ],
  "metadata": {
    "colab": {
      "provenance": [],
      "gpuType": "T4"
    },
    "kernelspec": {
      "display_name": "Python 3",
      "name": "python3"
    },
    "language_info": {
      "name": "python"
    },
    "accelerator": "GPU"
  },
  "nbformat": 4,
  "nbformat_minor": 0
}